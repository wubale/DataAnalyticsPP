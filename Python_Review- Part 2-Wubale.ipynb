{
 "cells": [
  {
   "cell_type": "markdown",
   "id": "d50a2161",
   "metadata": {},
   "source": [
    "# Python Review #2\n",
    "\n",
    "Using what you learned in the modules, answer the questions below. Take your time and use all the information in the modules as your guide and resource. This isn't about memorization - this is about practicing skills! Good Luck!"
   ]
  },
  {
   "cell_type": "markdown",
   "id": "e637bcf4",
   "metadata": {},
   "source": [
    "## Module 4 Review"
   ]
  },
  {
   "cell_type": "markdown",
   "id": "98001a9c",
   "metadata": {},
   "source": [
    "#### REMOVING VALUES FROM LIST\n",
    "\n",
    "Lists are changeable, which means you can remove values to a list after you have defined the list initially. \n",
    "\n",
    "The .pop() function will remove a single item from your list. This function allows you to only remove a single value at a time. You have the option to provide the function with the index-position of where the item you want to remove is located. However, if you don't specify a specific index, the function will automatically remove the last item from the list. To use the function, see an example below:\n",
    "\n",
    "    list_name.pop( index_of_item_to_remove )\n",
    "    \n",
    "    colors.pop(3)\n",
    "    \n",
    "The .remove() function will remove a specific item from a list (you provide the item label/value and the function will search and remove that specific item). If an item/value is repeated within your list, this function will only remove the first instance. To use the function, see an example below:\n",
    "\n",
    "    list_name.remove( item_to_remove )\n",
    "    \n",
    "    colors.remove(\"green-3\")\n",
    "    \n",
    "1. Create a list of shapes below. This list should have at least 3 values. Print the list. \n",
    "2. Use the pop function to remove a shape from your list. Print the list.\n",
    "3. Use the remove function to remove a shape to your list. You should remove the shape in index position 2. Print your list.\n",
    "4. Use the pop function to remove the last item in your list. Print the list. "
   ]
  },
  {
   "cell_type": "code",
   "execution_count": null,
   "id": "11fdc55f",
   "metadata": {},
   "outputs": [],
   "source": [
    "shapes = [\"circle\", \"rectangel\", \"line\", \"triangle\"]"
   ]
  },
  {
   "cell_type": "code",
   "execution_count": null,
   "id": "87c18909",
   "metadata": {},
   "outputs": [],
   "source": [
    "print(shapes.pop())"
   ]
  },
  {
   "cell_type": "raw",
   "id": "768d43e0",
   "metadata": {},
   "source": [
    "shapes.remove(\"line\")\n",
    "print(shapes)"
   ]
  },
  {
   "cell_type": "code",
   "execution_count": null,
   "id": "9054dd60",
   "metadata": {},
   "outputs": [],
   "source": [
    "print(shapes.pop())"
   ]
  },
  {
   "cell_type": "markdown",
   "id": "e46e6d07",
   "metadata": {},
   "source": [
    "#### SORTING A LIST\n",
    "\n",
    "The .sort() function allows you to re-order a list in ascending or descending order. If the list includes only numbers, this means the numbers will be ordered from least to greatest (or from greatest to least). If the list includes strings/text, the list will be sorted in alphabetical order (or reverse alphabetical order). To use the function, see the example below: \n",
    "\n",
    "        list_name.sort() >> by default, this will sort the list in ascending order\n",
    "        colors.sort()\n",
    "        \n",
    "To change the direction in which items are sorted, you can add an option within the parentheses that sorts the list in the reverse direction (reverse = True). See the example below:\n",
    "        \n",
    "        list_name.sort(reverse = True)\n",
    "        colors.sort(reverse = True)\n",
    "\n",
    "1. Create a list of 4 integers. Print the list. \n",
    "2. Sort the list in ascending order. \n",
    "3. In a new cell, sort the same list in descending order. "
   ]
  },
  {
   "cell_type": "code",
   "execution_count": null,
   "id": "86fd7b0f",
   "metadata": {},
   "outputs": [],
   "source": [
    "integers = [25,2,3,9]"
   ]
  },
  {
   "cell_type": "code",
   "execution_count": null,
   "id": "48c304ee",
   "metadata": {},
   "outputs": [],
   "source": [
    "integers.sort()\n",
    "print(integers)"
   ]
  },
  {
   "cell_type": "markdown",
   "id": "cca1d63c",
   "metadata": {},
   "source": [
    "#### FOR-LOOPS\n",
    "\n",
    "Python has several types of loops that are used to iterate through a set of information. <b>For Loops</b> are used to apply a function on each item in a specific list. For example, if you want to apply the print() function to each item in a list (aka you want to individually print out each item listed), you can do so with a for loop. The basic structure of a for-loop is as follows:\n",
    "\n",
    "        for item in list_of_items:\n",
    "            statement 1\n",
    "            statement 2\n",
    "            statement 3\n",
    "\n",
    "This can be read as \"For each Item in the list of Items, perform the following tasks...\". The for loop will then take each item in the list - one by one - and apply the specific statements to each item. See below for an example:\n",
    "    \n",
    "    my_list = [\"a\", \"b\", \"c\", \"d\"]\n",
    "    \n",
    "Below I'm going to create a for loop that will iterate through my_list and print each item from the list. In the for loop, the \"i\" stands for item.\n",
    "\n",
    "    for i in my_list:\n",
    "        print (i)\n",
    "The output for the for-loop with be as follows:\n",
    "\n",
    "    a\n",
    "    b\n",
    "    c\n",
    "    d\n",
    "\n",
    "Complete the code below to create a series of for-loops. "
   ]
  },
  {
   "cell_type": "code",
   "execution_count": null,
   "id": "703dbe84",
   "metadata": {},
   "outputs": [],
   "source": [
    "colors = [\"red\", \"orange\", \"purple\", \"white\", \"green\"]\n",
    "\n",
    "## using the list above, create a for-loop that prints each color from the list\n",
    "for j in colors:\n",
    "    print(j)"
   ]
  },
  {
   "cell_type": "code",
   "execution_count": null,
   "id": "a554fe60",
   "metadata": {},
   "outputs": [],
   "source": [
    "drinks = [\"soda\", \"coffee\", \"tea\", \"milk\", \"water\"]\n",
    "\n",
    "## using the list above, create a for-loop that prints the name of each color and the length of each string \n",
    "# how many characters are in the name of the color?\n",
    "for n in drinks:\n",
    "    print(n, len(n))\n",
    "    "
   ]
  },
  {
   "cell_type": "code",
   "execution_count": null,
   "id": "92720938",
   "metadata": {},
   "outputs": [],
   "source": [
    "drinks = [\"soda\", \"coffee\", \"tea\", \"milk\", \"water\"]\n",
    "\n",
    "## using the same drinks list, create a for-loop that prints the sentence \"My favorite drink is ..\" and then fill in the name of each color\n",
    "\n",
    "for i in drinks:\n",
    "    print(f\"my favorite drink is {i}\")"
   ]
  },
  {
   "cell_type": "code",
   "execution_count": null,
   "id": "4bb84e9a",
   "metadata": {},
   "outputs": [],
   "source": [
    "numbers = [10, 20, 30, 40, 50]\n",
    "\n",
    "## using the list above, create a for-loop that adds 5 to each value in the list and then prints the value \n",
    "\n",
    "for n in numbers:\n",
    "    print(n+5)"
   ]
  },
  {
   "cell_type": "code",
   "execution_count": null,
   "id": "b1b86f7b",
   "metadata": {},
   "outputs": [],
   "source": []
  },
  {
   "cell_type": "markdown",
   "id": "4d3cda51",
   "metadata": {},
   "source": [
    "#### RANGE FUNCTION \n",
    "\n",
    "The range function creates a sequence of numbers starting from a given integer and stopping before a given integer (inclusive -> exclusive). The range function can be useful when incorporated into loops. The range function defaults to a 0 starting value but this can be altered, for example:\n",
    "\n",
    "        range(0, 10) returns the values 0 through 9\n",
    "        range(0, 11) returns the values 0 through 10\n",
    "        range(2, 7) returns the values 2 through 6\n",
    "        range(-1, 10) returns the values -1 through 9\n",
    "        \n",
    "To use the range function, you can include it in a for-loop. The for-loop will iterate through the list of numbers and print them out one by one. Below I'm going to create a for loop that will iterate through a sequence of numbers and print each number. In the for loop, the \"i\" stands for integer.\n",
    "\n",
    "    for i in range(0, 6):\n",
    "        print (i)\n",
    "        \n",
    "This can be read as \"For each integer in the range 0 through 10, print the integer\". The output for the for-loop with be as follows:\n",
    "\n",
    "    1\n",
    "    2\n",
    "    3\n",
    "    4\n",
    "    5\n",
    "\n",
    "Complete the code below to create a series of for-loops using the range function. "
   ]
  },
  {
   "cell_type": "code",
   "execution_count": null,
   "id": "34d7bdaf",
   "metadata": {},
   "outputs": [],
   "source": [
    "## complete the code to print a list of integers ranging from 0 to 3.\n",
    "\n",
    "#for i in range(-,--):\n",
    "for i in range(0,4):\n",
    "    print(i)"
   ]
  },
  {
   "cell_type": "code",
   "execution_count": null,
   "id": "91aae893",
   "metadata": {},
   "outputs": [],
   "source": [
    "## complete the code to print a list of integers ranging from -1 to 9.\n",
    "\n",
    "#for i in range(--,--):\n",
    "for i in range(-1,10):\n",
    "    print(i)"
   ]
  },
  {
   "cell_type": "code",
   "execution_count": null,
   "id": "35108002",
   "metadata": {},
   "outputs": [],
   "source": [
    "## complete the code to add 5 to a series of integers ranging from 0 to 5.\n",
    "\n",
    "#for i in range(--,--):\n",
    " #   i = \n",
    "\n",
    "for i in range(0,6):\n",
    "    i <=5  \n",
    "    print(i+5)"
   ]
  },
  {
   "cell_type": "code",
   "execution_count": null,
   "id": "0cc56b0e",
   "metadata": {},
   "outputs": [],
   "source": [
    "## complete the code to multiply a series of integers ranging from 1 to 8 by 10. \n",
    "\n",
    "for i in range(1,9):\n",
    "    i <=9 \n",
    "    print(i*10)"
   ]
  },
  {
   "cell_type": "markdown",
   "id": "8e975a93",
   "metadata": {},
   "source": [
    "#### WHILE LOOPS\n",
    "\n",
    "The while loop is another type of Python loop. With the while loop, we can execute a set of statements as long as a condition is true. That condition is listed at the top of the statement and underneath the statement is where you will list all the items you want executed while that statement is true. For example:\n",
    "\n",
    "    i = 1\n",
    "    \n",
    "    while i < 6:\n",
    "        print(i)\n",
    "\n",
    "The above while loop will print the value of \"i\" for as long as \"i\" is less than 6. This is because the condition that is being checked for truth is \"i < 6\". If this is true, the loop continues (indefinitely) - but as soon as this statement is no longer true, the loop will stop. The above loop is an infinity loop and will never stop running. This is because the value of \"i\" is always going to be 1 - which is always going to be less than 6, which means the conditional statement will never be untrue. We can modify our code so that this is not an infinity loop by adding a statement that adds \"1\" to the value of \"i\" after each successful loop. \n",
    "\n",
    "    i = 1\n",
    "    \n",
    "    while i < 6:\n",
    "        print(i)\n",
    "        i = i + 1\n",
    "        \n",
    "The loop will flow in the following way:\n",
    "\n",
    "1. Check the conditional statement for truth (is i less than 6?); if yes, continue to the first statement underneath; if no, end the loop. \n",
    "2. The starting value of \"i\" is 1, therefore, the conditional statement is true. We can continue with the first statement listed underneath the conditional statement. \n",
    "3. We print the value of \"i\" because that is the first item listed underneath the conditional statement. On the first iteration of the loop, this means we are printing the value \"1\". \n",
    "4. We continue executing the statements underneath the conditional statement in the order they are listed. The next statement is i = i + 1 (this can also be written as i += 1); this means we are going to take whatever the value of \"i\" is and add 1 to it. Then we are going to save that result as the new value of \"i\". This is going to happen at the end of each successful loop. At the end of the first loop, \"i\" will have a value of \"2\". \n",
    "5. We've reached the end of our listed statements under the conditional statement, now it is time to go back to the top of the list and try everything again for iteration #2. \n",
    "6. Start again at the conditional statement - at the beginning of each iteration, the conditional statement is re-checked for truth. If it is still true, we cycle through the listed statements again (print the value of \"i\" and add 1 to the current value of \"i\"). \n",
    "7. This cycle will continue until the conditional statement is no longer true; therefore, in this example, this cycle will continue until \"i\" is greater than \n",
    "\n",
    "\n",
    "Complete the code below to execute a series of while loops. "
   ]
  },
  {
   "cell_type": "code",
   "execution_count": null,
   "id": "1d42d6be",
   "metadata": {},
   "outputs": [],
   "source": [
    "## complete the code below to prevent the while loop from becoming an infinity loop\n",
    "## add a line of code to stop the loop after 3 iterations\n",
    "\n",
    "i = 0\n",
    "\n",
    "while i < 3:\n",
    "    print(i)\n",
    "    #-------- ## add a line of code here\n",
    "    i += 1"
   ]
  },
  {
   "cell_type": "code",
   "execution_count": null,
   "id": "626e0f8d",
   "metadata": {},
   "outputs": [],
   "source": [
    "## each minute you let your tea sit, it cools down 6 degrees. \n",
    "## how many minutes pass before you can drink your tea?\n",
    "## run the while-loop below and count the number of loops it made.\n",
    "\n",
    "temp = 181\n",
    "\n",
    "while temp > 135:\n",
    "    print(f\"{temp} degrees is too hot to drink your tea, let it cool.\")\n",
    "    temp = temp - 6\n",
    "    \n",
    "print(f\"Your tea is {temp} and cool enough to drink. Enjoy!\")"
   ]
  },
  {
   "cell_type": "code",
   "execution_count": null,
   "id": "447c6557",
   "metadata": {},
   "outputs": [],
   "source": [
    "## create a while loop that returns numbers 1 through 10\n",
    "## once you get to 10, the loop should naturally end\n",
    "\n",
    "i = 1\n",
    "\n",
    "while i <11:\n",
    "    print(i)\n",
    "    i += 1"
   ]
  },
  {
   "cell_type": "markdown",
   "id": "aacf4f3e",
   "metadata": {},
   "source": [
    "## Module 5 Review"
   ]
  },
  {
   "cell_type": "markdown",
   "id": "f2d82ce3",
   "metadata": {},
   "source": [
    "#### DICTIONARIES\n",
    "\n",
    "A dictionary is another Python data type that holds a collection of items within one variable name. Unlike a list or tuples, dictionaries don't hold single values - they hold paired values. Each pair is called an <b>item</b>, and each item contains a <b>key</b> and a <b>value</b>. The key is separated by a value with a \" : \" and each item within the dictionary is separated by a comma. The entire dictionary is contained within curly brackets ( {} ). See below for an example:\n",
    "\n",
    "    my_dictionary = {key_1 : value_1, key_2 : value_2, key_3 : value_3...}\n",
    "\n",
    "A dictionary is ordered (it can be indexed), changeable (you can add, remove, and manipulate the items within), and it does not allow for duplicate keys. \n",
    "\n",
    "1. Create a dictionary called \"roommates\". This dictionary will include only two items - the name and age of each person living in a house. The name is the KEY and the age is the VALUE. Print the dictionary. Use the following information to construct the dictionary:\n",
    "    * Sarah is 19 years old\n",
    "    * Margaret is 23 years old"
   ]
  },
  {
   "cell_type": "code",
   "execution_count": null,
   "id": "3315ca4c",
   "metadata": {},
   "outputs": [],
   "source": [
    "roomates= {\"alex\": 26, \"meron\": 30}\n",
    "print(roomates)\n"
   ]
  },
  {
   "cell_type": "code",
   "execution_count": null,
   "id": "22f05d48",
   "metadata": {},
   "outputs": [],
   "source": []
  },
  {
   "cell_type": "markdown",
   "id": "1dbc220c",
   "metadata": {},
   "source": [
    "#### ACCESSING A DICTIONARY P1\n",
    "\n",
    "Identifying the items that are stored within your dictionary allows you to understand what the dictionary includes. Use the .get() function to retrieve a value from your dictionary. The .get() function requires you to input a dictionary KEY and it will return the value associated with that specific KEY. To use the function, follow the example below:\n",
    "\n",
    "    my_dictionary = [key1 : value1, key2 : value2]\n",
    "    \n",
    "To get the value of \"value2\" we can use the .get() function in the following way:\n",
    "    \n",
    "    my_dictionary.get(\"key2\")\n",
    "    \n",
    "The function will search for the specific key and return whichever value is associated with that key. \n",
    "\n",
    "Complete the code below to retrieve specific values from a dictionary that contains the first and last names of famous people throughout history. In this example, the keys are the first names and the values are the last names. "
   ]
  },
  {
   "cell_type": "code",
   "execution_count": null,
   "id": "d20f62c2",
   "metadata": {},
   "outputs": [],
   "source": [
    "## run this cell to define the dictionary\n",
    "\n",
    "famous = {\"Marilyn\":\"Monroe\", \"Ab\":\"Lincoln\", \"Nelson\":\"Mandela\", \"Bill\":\"Gates\", \"Charles\":\"Darwin\", \"Rosa\":\"Parks\", \"John\":\"Lennon\", \"Pablo\":\"Picasso\"}"
   ]
  },
  {
   "cell_type": "code",
   "execution_count": null,
   "id": "e62fa3d5",
   "metadata": {},
   "outputs": [],
   "source": [
    "## get the last name of the person called \"Nelson\"\n",
    "famous.get(\"Nelson\")\n"
   ]
  },
  {
   "cell_type": "code",
   "execution_count": null,
   "id": "8b5e6bb9",
   "metadata": {},
   "outputs": [],
   "source": [
    "## get the last name of the person called \"Rosa\"\n",
    "\n",
    "famous.get(\"Rosa\")"
   ]
  },
  {
   "cell_type": "code",
   "execution_count": null,
   "id": "a0d01731",
   "metadata": {},
   "outputs": [],
   "source": [
    "## get the last name of the person called \"John\"\n",
    "famous.get(\"John\")\n"
   ]
  },
  {
   "cell_type": "markdown",
   "id": "40b7e9fc",
   "metadata": {},
   "source": [
    "#### ACCESSING A DICTIONARY P2\n",
    "\n",
    "Identifying the items that are stored within your dictionary allows you to understand what the dictionary includes. Use the .keys() function to return a list of all the keys in your dictionary. To use the function, look at the example below:\n",
    "\n",
    "    my_dictionary = [key1 : value1, key2 : value2]\n",
    "\n",
    "To get a list of all the keys stored in the dictionary, use the following code:\n",
    "\n",
    "    my_dictionary.keys()\n",
    "    \n",
    "The output for this code will be:\n",
    "\n",
    "    key1\n",
    "    key2\n",
    "    \n",
    "Complete the code below to retrieve all the keys associated with the dictionary of famous people. "
   ]
  },
  {
   "cell_type": "code",
   "execution_count": null,
   "id": "587c0e1a",
   "metadata": {},
   "outputs": [],
   "source": [
    "## run this cell to define the dictionary\n",
    "\n",
    "famous = {\"Marilyn\":\"Monroe\", \"Ab\":\"Lincoln\", \"Nelson\":\"Mandela\", \"Bill\":\"Gates\", \"Charles\":\"Darwin\", \"Rosa\":\"Parks\", \"John\":\"Lennon\", \"Pablo\":\"Picasso\"}"
   ]
  },
  {
   "cell_type": "code",
   "execution_count": null,
   "id": "55b7ce3b",
   "metadata": {},
   "outputs": [],
   "source": [
    "## write the code to retrive all the keys associated with this dictionary\n",
    "\n",
    "famous.keys()"
   ]
  },
  {
   "cell_type": "markdown",
   "id": "4913c57c",
   "metadata": {},
   "source": [
    "#### ACCESSING A DICTIONARY P3\n",
    "\n",
    "Identifying the items that are stored within your dictionary allows you to understand what the dictionary includes. Use the .values() function to return a list of all the values in your dictionary. To use the function, look at the example below:\n",
    "\n",
    "    my_dictionary = [key1 : value1, key2 : value2]\n",
    "\n",
    "To get a list of all the values stored in the dictionary, use the following code:\n",
    "\n",
    "    my_dictionary.values()\n",
    "    \n",
    "The output for this code will be:\n",
    "\n",
    "    value1\n",
    "    value2\n",
    "    \n",
    "Complete the code below to retrieve all the values associated with the dictionary of famous people. "
   ]
  },
  {
   "cell_type": "code",
   "execution_count": null,
   "id": "b06940de",
   "metadata": {},
   "outputs": [],
   "source": [
    "## run this cell to define the dictionary\n",
    "\n",
    "famous = {\"Marilyn\":\"Monroe\", \"Ab\":\"Lincoln\", \"Nelson\":\"Mandela\", \"Bill\":\"Gates\", \"Charles\":\"Darwin\", \"Rosa\":\"Parks\", \"John\":\"Lennon\", \"Pablo\":\"Picasso\"}"
   ]
  },
  {
   "cell_type": "code",
   "execution_count": null,
   "id": "d169aae4",
   "metadata": {},
   "outputs": [],
   "source": [
    "## write the code to retrive all the values associated with this dictionary\n",
    "famous.values()"
   ]
  },
  {
   "cell_type": "markdown",
   "id": "59bbe783",
   "metadata": {},
   "source": [
    "#### CHANGING DICTIONARY ITEMS\n",
    "\n",
    "Dictionaries are changeable -- meaning you can add, remove, and modify items stored within the dictionary. To modify or edit items within your dictionary, you can use the .update() function. You can use this function to update a value given a specific key. To use the function, see the example below:\n",
    "\n",
    "    my_dictionary = [key1 : value1, key2 : value2]\n",
    "    \n",
    "I want to update the second item to \"value_2\". See below for the code to do this:\n",
    "\n",
    "    my_dictionary.update({\"key_name\" : \"new_value\"})\n",
    "    \n",
    "Within the parentheses of the update() function, you will add a mini dictionary of the items you want to update. This includes adding the curly brackets around the items you want to modify. For example:\n",
    "\n",
    "    my_dictionary.update({\"key2\" : \"value_2\"})\n",
    "    \n",
    "This will change my dictionary from the original to this:\n",
    "\n",
    "    my_dictionary = [key1 : value1, key2 : value_2]\n",
    "    \n",
    "1. Using the dictionary 'famous' shown above, update the last name of Marilyn Monroe to \"Mortenson\". The key should stay the same, you are just updating the value. "
   ]
  },
  {
   "cell_type": "code",
   "execution_count": null,
   "id": "7e66c8d2",
   "metadata": {},
   "outputs": [],
   "source": [
    "print(famous.update({\"Marilyn\": \"Mortenson\"}))"
   ]
  },
  {
   "cell_type": "code",
   "execution_count": null,
   "id": "86b2610d",
   "metadata": {},
   "outputs": [],
   "source": []
  },
  {
   "cell_type": "markdown",
   "id": "50127f01",
   "metadata": {},
   "source": [
    "#### ADDING ITEMS TO DICTIONARY \n",
    "\n",
    "You can use the .update() function to add new items to a dictionary. To do this, follow the same steps as above but when you create your 'mini dictionary', you can insert 1 or multiple new entries. \n",
    "\n",
    "    my_dictionary = [key1 : value1, key2 : value2]\n",
    "\n",
    "I want to add two additional items to the end of my dictionary.\n",
    "\n",
    "    my_dictionary.update({\"key3\" : \"value3\", \"key4\" : \"value4\"})\n",
    "    \n",
    "If I run the above code, my dictionary will change from the original to the following:\n",
    "\n",
    "    my_dictionary = [key1 : value1, key2 : value2, key3 : value3, key4 : value4]\n",
    "    \n",
    "Using the famous dictionary shown above, add two additional famous people to the end of the list using the update() function. "
   ]
  },
  {
   "cell_type": "code",
   "execution_count": null,
   "id": "c353136d",
   "metadata": {},
   "outputs": [],
   "source": [
    "print(famous.update({\"Aklilu\": \"Lemma\", \"Ashenafi\": \"Kebede\"}))"
   ]
  },
  {
   "cell_type": "code",
   "execution_count": null,
   "id": "f0046a81",
   "metadata": {},
   "outputs": [],
   "source": []
  },
  {
   "cell_type": "markdown",
   "id": "639e67f1",
   "metadata": {},
   "source": [
    "#### REMOVING ITEMS FROM DICTIONARY\n",
    "\n",
    "You can use several functions to remove items from your dictionary. The most important functions to remember are:\n",
    "    \n",
    "<b> .pop() function removes a specific item given a specific key </b>\n",
    "    \n",
    "    my_dictionary = [key1 : value1, key2 : value2]\n",
    "    \n",
    "    my_dictionary.pop(\"key1\") >> this will remove the key-value pair with key \"key1\"\n",
    "    \n",
    "<b> .popitem() function removes the last item listed in the dictionary </b>\n",
    "\n",
    "    my_dictionary = [key1 : value1, key2 : value2]\n",
    "    \n",
    "    my_dictionary.popitem() >> this will remove the last item in the dictionary\n",
    "    \n",
    "<b> .clear() function removes all items from a dictionary </b>\n",
    "\n",
    "    my_dictionary = [key1 : value1, key2 : value2]\n",
    "    \n",
    "    my_dictionary.clear() >> this will remove all items from the dictionary\n",
    "    \n",
    "Using the famous dictionary below, answer the following questions:\n",
    "1. Remove \"Bill Gates\" from the dictionary. Print the dictionary. \n",
    "2. Remove \"John Lennon\" from the dictionary. Print the dictionary. \n",
    "3. Remove the last item from the dictionary. Print the dictionary. "
   ]
  },
  {
   "cell_type": "code",
   "execution_count": null,
   "id": "533ab09f",
   "metadata": {},
   "outputs": [],
   "source": [
    "## run this cell to define the dictionary\n",
    "\n",
    "famous = {\"Marilyn\":\"Monroe\", \"Ab\":\"Lincoln\", \"Nelson\":\"Mandela\", \"Bill\":\"Gates\", \"Charles\":\"Darwin\", \"Rosa\":\"Parks\", \"John\":\"Lennon\", \"Pablo\":\"Picasso\"}"
   ]
  },
  {
   "cell_type": "code",
   "execution_count": null,
   "id": "f2bc1fc8",
   "metadata": {},
   "outputs": [],
   "source": [
    "famous.pop(\"Bill\")\n",
    "print(famous)"
   ]
  },
  {
   "cell_type": "code",
   "execution_count": null,
   "id": "be79d430",
   "metadata": {},
   "outputs": [],
   "source": [
    "famous.pop(\"John\")\n",
    "print(famous)"
   ]
  },
  {
   "cell_type": "code",
   "execution_count": null,
   "id": "7864cdd6",
   "metadata": {},
   "outputs": [],
   "source": [
    "famous.pop(\"Pablo\")\n",
    "print(famous)"
   ]
  },
  {
   "cell_type": "markdown",
   "id": "0167bf69",
   "metadata": {},
   "source": [
    "# Advanced Review Exercise #1\n",
    "\n",
    "Create a Mad Libs using Python. Find a Mad Libs template online (this will look like a story that is missing several key words). Use that template to design a program that asks a user for input on all of the missing values within the Mad Libs. Then, once you have all the needed input -- print the Mad Libs using a formatted string. "
   ]
  },
  {
   "cell_type": "code",
   "execution_count": null,
   "id": "c2ac7e59",
   "metadata": {},
   "outputs": [],
   "source": []
  },
  {
   "cell_type": "code",
   "execution_count": null,
   "id": "54e3e6b3",
   "metadata": {},
   "outputs": [],
   "source": []
  },
  {
   "cell_type": "markdown",
   "id": "c0528989",
   "metadata": {},
   "source": [
    "# Advanced Review Exercise #2\n",
    "\n",
    "Create a program where the user can play a game of rock, paper, scissors against a computer. Set a play choice (rock, paper, or scissors) for the computer player and during the program, request for the user to input their play choice.\n",
    "\n",
    "The rules in Rock, Paper, Scissors are:\n",
    "\n",
    "Rock beats scissors\n",
    "Scissors beats paper\n",
    "Paper beats rock\n",
    "If the user wins, then display \"You win!\" If they lose against the computer, then display \"You lose.\" If the computer and the user have the same play choice, display \"It's a draw.\"\n",
    "\n",
    "<b>BONUS</b>: Randomize the play choice for the computer (hint: Python has a library called random). Also ask the user if they would like to play again. If they do, start the game again but if not, thank the user for playing the game."
   ]
  },
  {
   "cell_type": "code",
   "execution_count": null,
   "id": "b9be7052",
   "metadata": {},
   "outputs": [],
   "source": []
  },
  {
   "cell_type": "code",
   "execution_count": null,
   "id": "49b30079",
   "metadata": {},
   "outputs": [],
   "source": []
  },
  {
   "cell_type": "markdown",
   "id": "2ac716f5",
   "metadata": {},
   "source": [
    "# Advanced Review #3\n",
    "\n",
    "Create a program similar to the gameshow \"Who Wants to Be a Millionaire!\". Start by asking the user for their name, greeting them, and using their specific name throughout the program. \n",
    "\n",
    "Create a trivia program where a user is presented with a series of questions and asked to enter a response; if the response if correct, the user gains 100 points; if the response is incorrect, the user gets an \"X\" and does not gain any additional points. If the user gets 3 X's, they lose! Ask the user at least 15 questions. At the end of the game, calculate the users total score and present the answer to the user. \n",
    "\n",
    "Use the following source for trivia questions: https://www.opinionstage.com/blog/trivia-questions/"
   ]
  },
  {
   "cell_type": "code",
   "execution_count": null,
   "id": "75c925b8",
   "metadata": {},
   "outputs": [],
   "source": []
  },
  {
   "cell_type": "code",
   "execution_count": null,
   "id": "d98f644a",
   "metadata": {},
   "outputs": [],
   "source": []
  }
 ],
 "metadata": {
  "kernelspec": {
   "display_name": "Python 3",
   "language": "python",
   "name": "python3"
  },
  "language_info": {
   "codemirror_mode": {
    "name": "ipython",
    "version": 3
   },
   "file_extension": ".py",
   "mimetype": "text/x-python",
   "name": "python",
   "nbconvert_exporter": "python",
   "pygments_lexer": "ipython3",
   "version": "3.8.8"
  }
 },
 "nbformat": 4,
 "nbformat_minor": 5
}
