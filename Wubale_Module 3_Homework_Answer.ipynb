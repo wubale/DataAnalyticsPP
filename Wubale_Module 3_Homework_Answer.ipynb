{
 "cells": [
  {
   "cell_type": "markdown",
   "metadata": {},
   "source": [
    "### Exercise 1\n",
    "Ask a user for 5 names and place each one in to a list called <i>names</i>. Then, print <i>names</i>."
   ]
  },
  {
   "cell_type": "code",
   "execution_count": null,
   "metadata": {},
   "outputs": [],
   "source": [
    "names = []\n",
    "\n",
    "names.append(input(\"Please type a name: \"))\n",
    "names.append(input(\"Please type a name: \"))\n",
    "names.append(input(\"Please type a name: \"))\n",
    "names.append(input(\"Please type a name: \"))\n",
    "names.append(input(\"Please type a name: \"))\n",
    "\n",
    "print(names)"
   ]
  },
  {
   "cell_type": "markdown",
   "metadata": {},
   "source": [
    "### Exercise 2\n",
    "Print out a randomly selected name in the names list."
   ]
  },
  {
   "cell_type": "code",
   "execution_count": null,
   "metadata": {},
   "outputs": [],
   "source": [
    "import random\n",
    "i= random.randint(0,4)\n",
    "\n",
    "names[i]"
   ]
  },
  {
   "cell_type": "markdown",
   "metadata": {},
   "source": [
    "### Exercise 3\n",
    "\n",
    "Ask a user for a specific color and store that value into a variable. If the answer is gray, print \"You found Victor's favorite color!\". If the answer is anything besides gray, print \"[color name] is not Victor's favorite color.\""
   ]
  },
  {
   "cell_type": "code",
   "execution_count": null,
   "metadata": {},
   "outputs": [],
   "source": [
    "color= input(\"Please enter a color: \")\n",
    "if color == \"Gray\":\n",
    "    print(\"You found Victor's favorite color!\")\n",
    "else:\n",
    "    print(f\"{color} is not Victor's favorite color.\")"
   ]
  },
  {
   "cell_type": "markdown",
   "metadata": {},
   "source": [
    "### Exercise 4\n",
    "Ask for an exam score and store that number. If the number is greater than 100, then print out 'You cannot have an exam score higher than 100'. If the number doesn't exceeed 100 but is greater than or equal to 75, then print out 'You did great on your exam!'. Otherwise if they scored lower than 75, then print out 'You need to study harder'."
   ]
  },
  {
   "cell_type": "code",
   "execution_count": null,
   "metadata": {},
   "outputs": [],
   "source": [
    "score= int(input(\"please enter your exam score: \"))\n",
    "if score > 100:\n",
    "    print(\"You cannot have an exam score higher than 100\")\n",
    "elif score >= 75:\n",
    "    print(\"You did great on your exam!\")\n",
    "else:\n",
    "    print(\"You need to study harder\")\n",
    "    "
   ]
  },
  {
   "cell_type": "markdown",
   "metadata": {},
   "source": [
    "### Exercise 5\n",
    "Write a function to convert a test score to a grade where  \n",
    " - 90 - 100: A\n",
    " - 80 - 89:  B\n",
    " - 70 - 79:  C\n",
    " - 60 - 69:  D\n",
    " - < 60   :  F\n",
    " \n",
    "If a score is not between 0 and 100 then print out an error message. In the program, ask the user for a score and then call your function. "
   ]
  },
  {
   "cell_type": "code",
   "execution_count": null,
   "metadata": {},
   "outputs": [],
   "source": [
    "score= int(input(\"Please enter your test score: \"))\n",
    "def convert_score_to_grade(score):\n",
    "    if score < 0 or score > 100:\n",
    "           print(\"ERROR: Please enter your score between 0 and 100\")\n",
    "    elif score >= 90:\n",
    "           print(\"Your grade is A\")\n",
    "    elif score >= 80:\n",
    "           print(\"Your grade is B\")\n",
    "    elif score >= 70:\n",
    "           print(\"Your grade is C\")\n",
    "    elif score >= 60:\n",
    "           print(\"Your grade is D\")\n",
    "    else:\n",
    "           print(\"Your grade is F\") \n",
    "            \n",
    "#score= int(input(\"Please enter your test score: \"))\n",
    "convert_score_to_grade(score)"
   ]
  }
 ],
 "metadata": {
  "kernelspec": {
   "display_name": "Python 3",
   "language": "python",
   "name": "python3"
  },
  "language_info": {
   "codemirror_mode": {
    "name": "ipython",
    "version": 3
   },
   "file_extension": ".py",
   "mimetype": "text/x-python",
   "name": "python",
   "nbconvert_exporter": "python",
   "pygments_lexer": "ipython3",
   "version": "3.8.8"
  }
 },
 "nbformat": 4,
 "nbformat_minor": 4
}
