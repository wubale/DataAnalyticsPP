{
 "cells": [
  {
   "cell_type": "markdown",
   "id": "0d294e99",
   "metadata": {},
   "source": [
    "# Module 7: Introduction to Data, Datasets, and Basic Python\n",
    "\n",
    "*****************\n",
    "\n",
    "### What is Data?\n",
    "\n",
    "Data are individual units of information. In analytics, data are represented by variables. Data can include the names of everyone in a community, the height of each player on a basketball team, the life-expectency rate for several different countries, a description of symptoms from a patient over the course of a hospital stay, or the text from several articles about a specific topic. Data is endless, and as more avenues become available for collecting information, traditional data is expanding into BIG data. \n",
    "\n",
    "### Structure of a Dataset\n",
    "\n",
    "In this course, we will be focusing exclusively on <b>structured</b> data -- that is, data that is already organized into a neat and pridictable structure. This includes storing data in columns and rows which makes it easy to understand and manipulate. \n",
    "\n",
    "![alt text](dataset.png \"Structure of a Dataset\")\n",
    "\n",
    "### Variables, Values, Observations\n",
    "\n",
    "* Data is typically stored in groups for easier manipulation and organization. \n",
    "* <b>VALUES</b> are individual bits of data. Values can include a number, a sentence, a symbol, an address, etc. Several values can be stored within a variable for easy access. \n",
    "    - Integer: a whole number (87)\n",
    "    - Float: a decimal (6.87)\n",
    "    - String value: alpha-numeric - \"Hello\"\n",
    "* <b>VARIABLES</b> are containers for a specific series of values. A variable can hold one or several values. For example, a variable called <b>names</b> contains all the names of a group of students. "
   ]
  },
  {
   "cell_type": "markdown",
   "id": "20901ff3",
   "metadata": {},
   "source": [
    "# Importing Data into Notebook with Python\n",
    "\n",
    "***************************\n",
    "\n",
    "#### Working with Structured Datasets\n",
    "\n",
    "In this course, we will be working with structured datasets that are easy to explore and manipulate. Once you learn the basics of how to work with this style of data, you will be able to apply what you learn to numerous other datasets. It is possible to construct a dataset from scratch using Python (we will learn more about this later) -- but for now, we are going to work on importing already created datasets into your notebook.\n",
    "\n",
    "\n",
    "#### What is a library?\n",
    "\n",
    "Libraries are packages of pre-defined functions that are not included in basic python. You will need to manually import each library you want to access -- once imported, you can use all the libraries functions throughout the entire notebook. We will use multiple libraries throughout the duration of this course but we will start with the one library we will use in each class going forward - PANDAS. \n",
    "\n",
    "#### Intro to the Pandas Library \n",
    "\n",
    "Pandas stands for <b><i>Python Data Analysis Library</i></b>. This package makes working with and analyzing data with Python very easy and is one of the most preferred and used tools in data exploration/manipulation. Starting with Pandas will give you a fast and useful introduction to working with data and luckily, pandas is able to take data (like a CSV file) and transforms it into a Python object called a <b><i>DataFrame</i></b>. This is the same structure we consider a dataset. "
   ]
  },
  {
   "cell_type": "markdown",
   "id": "e024f3e6",
   "metadata": {},
   "source": [
    "#### Pandas Library"
   ]
  },
  {
   "cell_type": "code",
   "execution_count": null,
   "id": "96d8a17a",
   "metadata": {},
   "outputs": [],
   "source": [
    "import pandas as pd"
   ]
  },
  {
   "cell_type": "markdown",
   "id": "13e9d92e",
   "metadata": {},
   "source": [
    "#### Importing a Dataset"
   ]
  },
  {
   "cell_type": "code",
   "execution_count": null,
   "id": "f78d3e2c",
   "metadata": {},
   "outputs": [],
   "source": [
    "df = pd.read_csv(\"pokemon.csv\")"
   ]
  },
  {
   "cell_type": "markdown",
   "id": "712727ec",
   "metadata": {},
   "source": [
    "#### Displaying the Dataset"
   ]
  },
  {
   "cell_type": "code",
   "execution_count": null,
   "id": "237fca24",
   "metadata": {},
   "outputs": [],
   "source": [
    "df"
   ]
  },
  {
   "cell_type": "code",
   "execution_count": null,
   "id": "aa12724c",
   "metadata": {},
   "outputs": [],
   "source": [
    "df.head(15)"
   ]
  },
  {
   "cell_type": "code",
   "execution_count": null,
   "id": "72894415",
   "metadata": {},
   "outputs": [],
   "source": [
    "df.tail()"
   ]
  },
  {
   "cell_type": "code",
   "execution_count": null,
   "id": "6042620f",
   "metadata": {},
   "outputs": [],
   "source": [
    "df.head(10)"
   ]
  },
  {
   "cell_type": "markdown",
   "id": "13551ea7",
   "metadata": {},
   "source": [
    "#### Data Attributes"
   ]
  },
  {
   "cell_type": "code",
   "execution_count": null,
   "id": "1c0ede7f",
   "metadata": {},
   "outputs": [],
   "source": [
    "df.info()"
   ]
  },
  {
   "cell_type": "markdown",
   "id": "86ce1252",
   "metadata": {},
   "source": [
    "## { Exercise 1 }\n",
    "\n",
    "Import the \"dental.csv\" file that is saved on canvas. \n",
    "\n",
    "* name the file \"dt\" when you import it\n",
    "* preview the first 6 rows\n",
    "* preview the last 4 rows\n",
    "* use the code to find the information about the dataset. how many columns are there? how many rows?"
   ]
  },
  {
   "cell_type": "code",
   "execution_count": null,
   "id": "a400778a",
   "metadata": {},
   "outputs": [],
   "source": []
  },
  {
   "cell_type": "code",
   "execution_count": null,
   "id": "fd97442d",
   "metadata": {},
   "outputs": [],
   "source": []
  },
  {
   "cell_type": "code",
   "execution_count": null,
   "id": "11be628a",
   "metadata": {},
   "outputs": [],
   "source": []
  },
  {
   "cell_type": "code",
   "execution_count": null,
   "id": "28f3c3e8",
   "metadata": {},
   "outputs": [],
   "source": []
  },
  {
   "cell_type": "markdown",
   "id": "de48bfe4",
   "metadata": {},
   "source": [
    "#### Highlighting and Selecting Columns"
   ]
  },
  {
   "cell_type": "code",
   "execution_count": null,
   "id": "b849423a",
   "metadata": {},
   "outputs": [],
   "source": [
    "df[\"Name\"]"
   ]
  },
  {
   "cell_type": "code",
   "execution_count": null,
   "id": "5f5a859b",
   "metadata": {},
   "outputs": [],
   "source": [
    "df[\"Name\"][0]"
   ]
  },
  {
   "cell_type": "code",
   "execution_count": null,
   "id": "1ce2f37f",
   "metadata": {},
   "outputs": [],
   "source": [
    "df[[\"Name\"]]"
   ]
  },
  {
   "cell_type": "code",
   "execution_count": null,
   "id": "824ba991",
   "metadata": {},
   "outputs": [],
   "source": [
    "df[[\"Name\", \"Type 1\", \"Stage\"]]"
   ]
  },
  {
   "cell_type": "code",
   "execution_count": null,
   "id": "000efe3b",
   "metadata": {},
   "outputs": [],
   "source": [
    "## creating a new dataset from an existing\n",
    "# pick and choose the columns you want to include\n",
    "\n",
    "df2 = df[[\"Name\", \"Type 1\", \"Type 2\", \"Stage\"]]\n",
    "\n",
    "# preview the new dataset\n",
    "\n",
    "df2.head()"
   ]
  },
  {
   "cell_type": "markdown",
   "id": "9e2b595d",
   "metadata": {},
   "source": [
    "## { Exercise 2 }\n",
    "\n",
    "Using the \"dental.csv\" file that you imported in the earlier exercise:\n",
    "\n",
    "* select the column that shows the persons first name \n",
    "* select the column that shows the age of the dental patients\n",
    "* select the first row of the column that shows if the patient has insurance\n",
    "* return four columns (you pick) using one line of code\n",
    "* create a new dataset called \"dt2\" that only includes first name, age, and gender"
   ]
  },
  {
   "cell_type": "code",
   "execution_count": null,
   "id": "d8ea4638",
   "metadata": {},
   "outputs": [],
   "source": []
  },
  {
   "cell_type": "code",
   "execution_count": null,
   "id": "b321e6bc",
   "metadata": {},
   "outputs": [],
   "source": []
  },
  {
   "cell_type": "code",
   "execution_count": null,
   "id": "9d4406b7",
   "metadata": {},
   "outputs": [],
   "source": []
  },
  {
   "cell_type": "markdown",
   "id": "0bab1975",
   "metadata": {},
   "source": [
    "### Indexing and Slicing a Dataset: iloc method\n",
    "\n",
    "Indexing in python is zero-based (numbering starts with 0). Index recalls the item that is at a specific position. When you are working with datasets, the indexing references the rows and columns of the entire dataset. \n",
    "\n",
    "* The iloc method selects rows and columns based on the index value. "
   ]
  },
  {
   "cell_type": "code",
   "execution_count": null,
   "id": "28734983",
   "metadata": {},
   "outputs": [],
   "source": [
    "df.head()"
   ]
  },
  {
   "cell_type": "markdown",
   "id": "65deee20",
   "metadata": {},
   "source": [
    "#### Selecting Rows with iloc"
   ]
  },
  {
   "cell_type": "code",
   "execution_count": null,
   "id": "651015f0",
   "metadata": {},
   "outputs": [],
   "source": [
    "# selecting a specific row\n",
    "\n",
    "df.iloc[0]"
   ]
  },
  {
   "cell_type": "code",
   "execution_count": null,
   "id": "4dcae4f1",
   "metadata": {},
   "outputs": [],
   "source": [
    "# selecting a specific row\n",
    "\n",
    "df.iloc[4]"
   ]
  },
  {
   "cell_type": "code",
   "execution_count": null,
   "id": "a0a49a23",
   "metadata": {},
   "outputs": [],
   "source": [
    "# slicing a dataset\n",
    "# rows 0 through 5\n",
    "\n",
    "df.iloc[0:6]"
   ]
  },
  {
   "cell_type": "code",
   "execution_count": null,
   "id": "2026545d",
   "metadata": {},
   "outputs": [],
   "source": [
    "# slicing a dataset\n",
    "# skipping rows with step option\n",
    "\n",
    "df.iloc[0:11:2]"
   ]
  },
  {
   "cell_type": "code",
   "execution_count": null,
   "id": "d98c5cc2",
   "metadata": {},
   "outputs": [],
   "source": [
    "# slicing a dataset\n",
    "# skipping rows with step option\n",
    "\n",
    "df.iloc[0:11:3]"
   ]
  },
  {
   "cell_type": "code",
   "execution_count": null,
   "id": "ae1131eb",
   "metadata": {
    "scrolled": true
   },
   "outputs": [],
   "source": [
    "# selecting non-consecutive rows\n",
    "\n",
    "df.iloc[[0, 17, 38]]"
   ]
  },
  {
   "cell_type": "markdown",
   "id": "9c25e667",
   "metadata": {},
   "source": [
    "#### Selecting Columns with iloc"
   ]
  },
  {
   "cell_type": "code",
   "execution_count": null,
   "id": "c5159917",
   "metadata": {},
   "outputs": [],
   "source": [
    "# selecting rows and columns by index \n",
    "# df.iloc[row index, column index]\n",
    "\n",
    "# what information can be found at row 0 column 1?\n",
    "\n",
    "df.iloc[0,1]"
   ]
  },
  {
   "cell_type": "code",
   "execution_count": null,
   "id": "b8fc110f",
   "metadata": {},
   "outputs": [],
   "source": [
    "# what information can be found at row 10 column 3?\n",
    "\n",
    "df.iloc[10,3]"
   ]
  },
  {
   "cell_type": "code",
   "execution_count": null,
   "id": "a48f8129",
   "metadata": {},
   "outputs": [],
   "source": [
    "# selecting multiple columns \n",
    "\n",
    "# selecting row 10, columns 0 through 3\n",
    "\n",
    "df.iloc[10, 0:4]"
   ]
  },
  {
   "cell_type": "code",
   "execution_count": null,
   "id": "c91a949f",
   "metadata": {},
   "outputs": [],
   "source": [
    "# selecting non-consecutive columns with iloc\n",
    "\n",
    "df.iloc[10, [0, 2, 4]]"
   ]
  },
  {
   "cell_type": "code",
   "execution_count": null,
   "id": "1f7e1736",
   "metadata": {},
   "outputs": [],
   "source": [
    "# selecting non-consecutive columns with iloc\n",
    "# return output as dataframe style \n",
    "\n",
    "df.iloc[[10], [0, 2, 4]]"
   ]
  },
  {
   "cell_type": "code",
   "execution_count": null,
   "id": "c494bb5c",
   "metadata": {},
   "outputs": [],
   "source": [
    "# selecting non-consecutive rows and columns\n",
    "\n",
    "df.iloc[[0, 6, 12], [1, 3, 5]]"
   ]
  },
  {
   "cell_type": "code",
   "execution_count": null,
   "id": "4888eb05",
   "metadata": {},
   "outputs": [],
   "source": [
    "# selecting all rows for specific columns\n",
    "# use \" : \" to represent all rows \n",
    "\n",
    "df.iloc[:, [0, 3, 6]]"
   ]
  },
  {
   "cell_type": "code",
   "execution_count": null,
   "id": "c1ee49af",
   "metadata": {},
   "outputs": [],
   "source": [
    "## selecting all columns for specific rows\n",
    "\n",
    "df.iloc[[3, 5, 10], :]"
   ]
  },
  {
   "cell_type": "markdown",
   "id": "924a161b",
   "metadata": {},
   "source": [
    "## { Exercise 3 }\n",
    "\n",
    "Using the \"dental.csv\" file that you imported in the earlier exercise:\n",
    "\n",
    "* view the first 10 rows of data in the \"dt\" dataset\n",
    "* select one row of data in the \"dt\" dataset, select the row at index position 16\n",
    "* select the rows in the \"dt\" dataset from index position 0 to 10 (make sure your output includes the row at index 10)\n",
    "* select the rows 0, 10, 20, 30, and 40 from the \"dt\" dataset. What is the name of the individual in row 30?\n",
    "* select the row at index position 33 for only the column in index position 2. What information is given?\n",
    "* select the rows between index positions 0 through 10 - for the columns in positions 0, 4, and 5. "
   ]
  },
  {
   "cell_type": "code",
   "execution_count": null,
   "id": "a00880c9",
   "metadata": {},
   "outputs": [],
   "source": []
  },
  {
   "cell_type": "code",
   "execution_count": null,
   "id": "8b3e2397",
   "metadata": {},
   "outputs": [],
   "source": []
  },
  {
   "cell_type": "code",
   "execution_count": null,
   "id": "4270ac29",
   "metadata": {},
   "outputs": [],
   "source": []
  },
  {
   "cell_type": "code",
   "execution_count": null,
   "id": "38860384",
   "metadata": {},
   "outputs": [],
   "source": []
  },
  {
   "cell_type": "code",
   "execution_count": null,
   "id": "eeab584e",
   "metadata": {},
   "outputs": [],
   "source": []
  },
  {
   "cell_type": "code",
   "execution_count": null,
   "id": "ea6d7c7e",
   "metadata": {},
   "outputs": [],
   "source": []
  },
  {
   "cell_type": "markdown",
   "id": "e5d62dd7",
   "metadata": {},
   "source": [
    "### Indexing and Slicing a Dataset: loc method\n",
    "\n",
    "When you use the loc method (instead of iloc), instead of referencing the index numeric-value -- you reference the label of the row/column. This method has several limitations, and the data will have to be in a specific format to use this method. \n",
    "\n",
    "* The loc method selects rows and columns based on a row or column label. "
   ]
  },
  {
   "cell_type": "code",
   "execution_count": null,
   "id": "71bc7ee5",
   "metadata": {},
   "outputs": [],
   "source": [
    "# changing the index of a dataset\n",
    "\n",
    "df = pd.read_csv(\"pokemon.csv\", index_col = \"Name\")\n",
    "\n",
    "# import the dataset as you saw previously\n",
    "# include the option  >> index_col = \"column name\"\n",
    "\n",
    "df.head()"
   ]
  },
  {
   "cell_type": "code",
   "execution_count": null,
   "id": "f66f5f4c",
   "metadata": {},
   "outputs": [],
   "source": [
    "# instead of calling a row by index number, you will use index label\n",
    "\n",
    "df.loc[\"Pikachu\"]"
   ]
  },
  {
   "cell_type": "code",
   "execution_count": null,
   "id": "e1152a2c",
   "metadata": {},
   "outputs": [],
   "source": [
    "# selecting multiple rows with loc\n",
    "\n",
    "df.loc[[\"Metapod\", \"Weedle\", \"Charmander\"]]"
   ]
  },
  {
   "cell_type": "code",
   "execution_count": null,
   "id": "5e1c6979",
   "metadata": {},
   "outputs": [],
   "source": [
    "# selecting rows and columns\n",
    "\n",
    "df.loc[\"Pikachu\", \"Type 1\"]"
   ]
  },
  {
   "cell_type": "code",
   "execution_count": null,
   "id": "0e9f4b2e",
   "metadata": {},
   "outputs": [],
   "source": [
    "# selecting multiple rows and multiple columns \n",
    "\n",
    "df.loc[[\"Metapod\", \"Weedle\", \"Charmander\"],[\"Type 1\",\"HP\",\"Stage\"]]"
   ]
  },
  {
   "cell_type": "code",
   "execution_count": null,
   "id": "46380862",
   "metadata": {},
   "outputs": [],
   "source": [
    "# selecting all rows or all columns\n",
    "\n",
    "## all rows\n",
    "\n",
    "df.loc[:, [\"Type 1\", \"Stage\"]]"
   ]
  },
  {
   "cell_type": "code",
   "execution_count": null,
   "id": "7e44b3f8",
   "metadata": {},
   "outputs": [],
   "source": [
    "# selecting all rows or all columns\n",
    "\n",
    "## all columns\n",
    "\n",
    "df.loc[[\"Pikachu\", \"Weedle\"], :]"
   ]
  },
  {
   "cell_type": "code",
   "execution_count": null,
   "id": "60a5cfe3",
   "metadata": {},
   "outputs": [],
   "source": [
    "# slicing using loc\n",
    "\n",
    "df.loc[\"Ivysaur\":\"Weedle\", \"Stage\"]"
   ]
  },
  {
   "cell_type": "code",
   "execution_count": null,
   "id": "4c2983a0",
   "metadata": {
    "scrolled": true
   },
   "outputs": [],
   "source": [
    "# slicing using loc\n",
    "\n",
    "df.loc[\"Ivysaur\", \"Type 1\":\"Attack\"]"
   ]
  },
  {
   "cell_type": "markdown",
   "id": "91db0671",
   "metadata": {},
   "source": [
    "## { Exercise 4 }\n",
    "\n",
    "Using the \"dental.csv\" file that you imported in the earlier exercise:\n",
    "\n",
    "* Import the \"dental.csv\" dataset again. This time, change the index to the column \"Last\". Again, nickname the dataset \"dt\". Preview the first five rows of the dataset. Does the index look like you expected?\n",
    "* Select the row with the label \"Hudson\". What information is available for this person?\n",
    "* Select the rows with the labels \"Bailey\", \"Hays\", and \"Taylor\" -- how many individuals in the dataset have one of these last names?\n",
    "* Select the rows with the label \"Compton\" for the columns \"Age\", \"Gender\", \"Insurance\", and \"New Patient\". Is this person a new or existing patient?\n",
    "* It's time to send everyone their outstanding bills! Select all the rows for the columns \"First\" and \"OutstandingBalance\"."
   ]
  },
  {
   "cell_type": "code",
   "execution_count": null,
   "id": "ead123ed",
   "metadata": {},
   "outputs": [],
   "source": []
  },
  {
   "cell_type": "code",
   "execution_count": null,
   "id": "1d702c06",
   "metadata": {},
   "outputs": [],
   "source": []
  },
  {
   "cell_type": "code",
   "execution_count": null,
   "id": "4d315d45",
   "metadata": {},
   "outputs": [],
   "source": []
  },
  {
   "cell_type": "code",
   "execution_count": null,
   "id": "9bdde3d8",
   "metadata": {},
   "outputs": [],
   "source": []
  },
  {
   "cell_type": "code",
   "execution_count": null,
   "id": "f8e0b9b3",
   "metadata": {},
   "outputs": [],
   "source": []
  },
  {
   "cell_type": "markdown",
   "id": "03cb8cbe",
   "metadata": {},
   "source": [
    "#### Exporting Data to .csv file"
   ]
  },
  {
   "cell_type": "code",
   "execution_count": null,
   "id": "626ebc6b",
   "metadata": {},
   "outputs": [],
   "source": [
    "df.to_csv(\"new file.csv\")"
   ]
  },
  {
   "cell_type": "code",
   "execution_count": null,
   "id": "357d97af",
   "metadata": {},
   "outputs": [],
   "source": []
  },
  {
   "cell_type": "markdown",
   "id": "42152f42",
   "metadata": {},
   "source": [
    "## { Module 6 Practice }"
   ]
  },
  {
   "cell_type": "markdown",
   "id": "d6dfc711",
   "metadata": {},
   "source": [
    "#### The Basics\n",
    "\n",
    "* Create a variable that has an integer value and another variable that has a float value.\n",
    "* Print the sum of the two variables you just created.\n",
    "* Write the code to find the type of data each variable contains.\n",
    "* Create a list with all the days of the week. Name it \"days\". Print the list."
   ]
  },
  {
   "cell_type": "code",
   "execution_count": null,
   "id": "2f96a012",
   "metadata": {},
   "outputs": [],
   "source": []
  },
  {
   "cell_type": "markdown",
   "id": "f2f5f254",
   "metadata": {},
   "source": [
    "#### Importing and Inspecting Data\n",
    "\n",
    "* Import the pandas library and nickname it \"pd\"\n",
    "* Import the \"pokemon.csv\" file, nickname the dataset \"pk\"\n",
    "* Inspect the first five rows of \"pk\". What is the name of the first Pokemon listed?\n",
    "* Inspect the last 5 rows of \"pk\". How many rows are there total in the dataset?\n",
    "* Complete the code below to output the summary information about the dataset. How many columns are there total in \"pk\"? In which column(s) do we have miss/NaN values?"
   ]
  },
  {
   "cell_type": "code",
   "execution_count": null,
   "id": "ca1fc6c8",
   "metadata": {},
   "outputs": [],
   "source": []
  },
  {
   "cell_type": "markdown",
   "id": "fc8561d2",
   "metadata": {},
   "source": [
    "#### Subsets and Indexing \n",
    "\n",
    "* It looks like \"pk\" has a lot more information than we need right now. Let's simplfy by only looking at a subset of the original dataset. Write the code to show only the following columns: \"Name\", \"Type 1\", \"Attack\", \"Defense\", and \"Stage\".\n",
    "* Using the iloc function, select the rows from index position 0 to 10, for columns \"Name\" and \"Type 1\".\n",
    "* Using the iloc function, select the rows at index position 0, 10, 20, 30, 45, and 50, for all columns.\n",
    "* Re-import the pokemon dataset and change the index to be the \"Name\" column. Again, nickname this dataset \"pk\". Preview the first five rows of \"pk\" to check if the new index is as expected.\n",
    "* Using the loc function, select the rows with labels: \"Metapod\", \"Weedle\", and \"Mew\" for all columns. Which pokemon has the highest Attack value?\n",
    "* Using the loc function, select the rows with the labels: \"Charmander\", \"Charmeleon\", and \"Charizard\", for the columns with the labels: \"Type 1\", \"Attack\", \"Defense\", and \"Stage\". Which pokemon has the lowest defense value?"
   ]
  },
  {
   "cell_type": "code",
   "execution_count": null,
   "id": "c98758c4",
   "metadata": {},
   "outputs": [],
   "source": []
  },
  {
   "cell_type": "markdown",
   "id": "af1f617c",
   "metadata": {},
   "source": [
    "#### Exporting\n",
    "\n",
    "* Export the pokemon dataset \"pk\" to a csv file. Check the class folder, did the file show up?"
   ]
  },
  {
   "cell_type": "code",
   "execution_count": null,
   "id": "90f88c9b",
   "metadata": {},
   "outputs": [],
   "source": []
  },
  {
   "cell_type": "markdown",
   "id": "d6d59d0e",
   "metadata": {},
   "source": [
    "## { Module 6 Homework }"
   ]
  },
  {
   "cell_type": "markdown",
   "id": "e9f8e9c6",
   "metadata": {},
   "source": [
    "1. Import the pandas library"
   ]
  },
  {
   "cell_type": "code",
   "execution_count": null,
   "id": "904ecb41",
   "metadata": {},
   "outputs": [],
   "source": [
    "import pandas as ps"
   ]
  },
  {
   "cell_type": "markdown",
   "id": "73010a50",
   "metadata": {},
   "source": [
    "2. Import the axisdata.csv file (saved to Canvas) and store the dataset in a variable named: sales. This dataset includes information about a sales team for a local company. The dataset includes the following columns:\n",
    "\n",
    "        Fname: first name of the sales person\n",
    "        Lname: last name of the sales person\n",
    "        Gender: gender of the sales person\n",
    "        Hours Worked: hours worked in the last week\n",
    "        SalesTraining: if sales person ever received sales training\n",
    "        Years Experience: total years of sales experience\n",
    "        Cars Sold: number of cars sold in the last week"
   ]
  },
  {
   "cell_type": "code",
   "execution_count": null,
   "id": "0d97b108",
   "metadata": {},
   "outputs": [],
   "source": [
    "sales = pd.read_csv(\"axisdata.csv\")"
   ]
  },
  {
   "cell_type": "markdown",
   "id": "51f655e3",
   "metadata": {},
   "source": [
    "3. Inspect the first 10 rows of the dataset \"sales\". What is the full name of the very first sales person?"
   ]
  },
  {
   "cell_type": "code",
   "execution_count": null,
   "id": "50f6816a",
   "metadata": {},
   "outputs": [],
   "source": [
    "sales.head(9)\n",
    "\n",
    "#the first person is Jada Walters"
   ]
  },
  {
   "cell_type": "markdown",
   "id": "1ecedc5c",
   "metadata": {},
   "source": [
    "4. Inspect the last 5 rows of the dataset sales. How many rows are there in total in our dataset?"
   ]
  },
  {
   "cell_type": "code",
   "execution_count": null,
   "id": "bb144673",
   "metadata": {},
   "outputs": [],
   "source": [
    "sales.tail(5)\n",
    "#There are 999 rows in the dataset"
   ]
  },
  {
   "cell_type": "markdown",
   "id": "1efcac9a",
   "metadata": {},
   "source": [
    "5. Write the code to find the information about the dataset. How many columns are there total? In which column(s) do we have missing/NaN values?"
   ]
  },
  {
   "cell_type": "code",
   "execution_count": null,
   "id": "ec3075dd",
   "metadata": {},
   "outputs": [],
   "source": [
    "sales\n",
    "#there are 7 columns"
   ]
  },
  {
   "cell_type": "markdown",
   "id": "3406dde0",
   "metadata": {},
   "source": [
    "6. Write the code to get summary statistics for our dataset. What is the maximum value in column Hours Worked? What is the minimum value in column Years Experience? What is the average value in column Cars Sold?"
   ]
  },
  {
   "cell_type": "code",
   "execution_count": null,
   "id": "7cf57c90",
   "metadata": {},
   "outputs": [],
   "source": [
    "sales.info\n",
    "#max Hr is 5\n",
    "#Min value Years is NaN"
   ]
  },
  {
   "cell_type": "markdown",
   "id": "cb364e31",
   "metadata": {},
   "source": [
    "7. Using the sales dataset, select/display only the Lname column without using iloc or loc. What is the last name of the second sales person?"
   ]
  },
  {
   "cell_type": "code",
   "execution_count": null,
   "id": "62ee325f",
   "metadata": {},
   "outputs": [],
   "source": []
  },
  {
   "cell_type": "markdown",
   "id": "06435e0d",
   "metadata": {},
   "source": [
    "8. Look at the sales dataset at index position 100 with the iloc operation. How many hours has this sales person worked in the past week?"
   ]
  },
  {
   "cell_type": "code",
   "execution_count": null,
   "id": "e402d77c",
   "metadata": {},
   "outputs": [],
   "source": []
  },
  {
   "cell_type": "markdown",
   "id": "8df3cbe9",
   "metadata": {},
   "source": [
    "9. Look at the sales dataset at index position 35 with the iloc operation. Only select for the column \"Cars Sold\". How many cars did this sales person sell in the past week?"
   ]
  },
  {
   "cell_type": "code",
   "execution_count": null,
   "id": "3bcb7e2e",
   "metadata": {},
   "outputs": [],
   "source": []
  },
  {
   "cell_type": "markdown",
   "id": "1e212e3f",
   "metadata": {},
   "source": [
    "10. Select the last 7 rows and the columns: fname, gender, and years experience with the iloc operation. How many women are there in this subset? How many years of experience does the last sales person have?"
   ]
  },
  {
   "cell_type": "code",
   "execution_count": null,
   "id": "1326441b",
   "metadata": {},
   "outputs": [],
   "source": []
  },
  {
   "cell_type": "markdown",
   "id": "e769b20c",
   "metadata": {},
   "source": [
    "11. Write the code below to re-import the axisdata.csv file as \"sales\". This time, change the index from the default to the column \"Lname\"."
   ]
  },
  {
   "cell_type": "code",
   "execution_count": null,
   "id": "465eab91",
   "metadata": {},
   "outputs": [],
   "source": [
    "sales = pd.read_csv(\"axisdata.csv\")"
   ]
  },
  {
   "cell_type": "markdown",
   "id": "5c30b971",
   "metadata": {},
   "source": [
    "12. Write the code to examine the first 5 rows of the sales dataset. Is the index the column that you wanted?"
   ]
  },
  {
   "cell_type": "code",
   "execution_count": null,
   "id": "30fdabda",
   "metadata": {},
   "outputs": [],
   "source": [
    "sales.head(4)"
   ]
  },
  {
   "cell_type": "markdown",
   "id": "cb30d972",
   "metadata": {},
   "source": [
    "13. Select the row with the index label \"Monroe\" using the loc operation. How many sales people have not completed sales training?"
   ]
  },
  {
   "cell_type": "code",
   "execution_count": null,
   "id": "90ffb999",
   "metadata": {},
   "outputs": [],
   "source": []
  },
  {
   "cell_type": "markdown",
   "id": "0efd6dd8",
   "metadata": {},
   "source": [
    "14. Select the row with the index label \"Sears\" and the columns \"Gender\" and \"Hours Worked\", using the loc operation. How many hours did the first two sales people work?"
   ]
  },
  {
   "cell_type": "code",
   "execution_count": null,
   "id": "9570e8eb",
   "metadata": {},
   "outputs": [],
   "source": []
  },
  {
   "cell_type": "markdown",
   "id": "d950ad2e",
   "metadata": {},
   "source": [
    "15. Select the columns \"Fname\" and \"Years Experience\" for all rows using the loc operation."
   ]
  },
  {
   "cell_type": "code",
   "execution_count": null,
   "id": "160eed97",
   "metadata": {},
   "outputs": [],
   "source": []
  },
  {
   "cell_type": "markdown",
   "id": "e3dd038d",
   "metadata": {},
   "source": [
    "16. Export your \"sales\" dataset to a .csv file called \"Module 6 HW\"."
   ]
  },
  {
   "cell_type": "code",
   "execution_count": null,
   "id": "bffc3321",
   "metadata": {},
   "outputs": [],
   "source": []
  }
 ],
 "metadata": {
  "kernelspec": {
   "display_name": "Python 3",
   "language": "python",
   "name": "python3"
  },
  "language_info": {
   "codemirror_mode": {
    "name": "ipython",
    "version": 3
   },
   "file_extension": ".py",
   "mimetype": "text/x-python",
   "name": "python",
   "nbconvert_exporter": "python",
   "pygments_lexer": "ipython3",
   "version": "3.8.8"
  }
 },
 "nbformat": 4,
 "nbformat_minor": 5
}
