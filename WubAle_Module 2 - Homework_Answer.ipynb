{
 "cells": [
  {
   "cell_type": "markdown",
   "id": "c209b646",
   "metadata": {},
   "source": [
    "### Homework #2"
   ]
  },
  {
   "cell_type": "markdown",
   "id": "869ebfd6",
   "metadata": {},
   "source": [
    "1. Round 4.5667 to the nearest hundreth (2 decimals) using a build-in function, round()."
   ]
  },
  {
   "cell_type": "code",
   "execution_count": null,
   "id": "123658aa",
   "metadata": {},
   "outputs": [],
   "source": [
    "round(4.5667,2)"
   ]
  },
  {
   "cell_type": "markdown",
   "id": "9d3f352c",
   "metadata": {},
   "source": [
    "2. Convert \"657\" to an integer data type"
   ]
  },
  {
   "cell_type": "code",
   "execution_count": null,
   "id": "d5a67683",
   "metadata": {},
   "outputs": [],
   "source": [
    "x= \"657\"\n",
    "print(int(x))"
   ]
  },
  {
   "cell_type": "markdown",
   "id": "a36f06d4",
   "metadata": {},
   "source": [
    "3. Write a program to get two numbers from a user. Then, create a 6-digit code that is a series of randomly generated numbers between the two numbers given by the user. Print the 6-digit code so all digits are separated by a dash. "
   ]
  },
  {
   "cell_type": "code",
   "execution_count": null,
   "id": "021c92d4",
   "metadata": {},
   "outputs": [],
   "source": [
    "num1 = int(input(\"Please enter the first number: \"))\n",
    "num2 = int(input(\"Please enter the second number: \"))\n",
    "\n",
    "import random as rand\n",
    "a = rand.randint(num1, num2)\n",
    "b = rand.randint(num1, num2)\n",
    "c = rand.randint(num1, num2)\n",
    "d = rand.randint(num1, num2)\n",
    "e = rand.randint(num1, num2)\n",
    "f = rand.randint(num1, num2)\n",
    "\n",
    "print(\"*\"* 25)\n",
    "\n",
    "print(f\"The randomly generated numbers are : {a}-{b}-{c}-{d}-{e}-{f}\")"
   ]
  },
  {
   "cell_type": "markdown",
   "id": "ee1441a1",
   "metadata": {},
   "source": [
    "4. Write a program to remove ALL the white spaces from the following text:\n",
    "\n",
    "        Hickory, dickory, dock,     \n",
    "        The mouse ran up the clock.   \n",
    "        The clock struck one,   \n",
    "        The mouse ran down,                      \n",
    "        Hickory, dickory, dock                  "
   ]
  },
  {
   "cell_type": "code",
   "execution_count": null,
   "id": "8bf680f1",
   "metadata": {},
   "outputs": [],
   "source": [
    "line_A= \" Hickory, dickory, dock, \"\n",
    "line_B= \" The mouse  ran up the  clock. \"\n",
    "line_C = \" The clock struck one ,\"\n",
    "line_D = \" The mouse ran down,  \"\n",
    "line_E = \"Hickory, dickory, dock\"\n"
   ]
  },
  {
   "cell_type": "code",
   "execution_count": null,
   "id": "59d9c718",
   "metadata": {},
   "outputs": [],
   "source": [
    "line_A= line_A.strip()\n",
    "line_B= line_B.strip()\n",
    "line_C= line_C.strip()\n",
    "line_D= line_D.strip()\n",
    "line_E= line_E.strip()\n",
    "\n",
    "#Replace the remaning white spaces\n",
    "line_A = line_A.replace(\" \", \"\")\n",
    "line_B = line_B.replace(\" \", \"\")\n",
    "line_C = line_C.replace(\" \", \"\")\n",
    "line_D = line_D.replace(\" \", \"\")\n",
    "line_E = line_E.replace(\" \", \"\")\n"
   ]
  },
  {
   "cell_type": "code",
   "execution_count": null,
   "id": "cd0e8724",
   "metadata": {},
   "outputs": [],
   "source": [
    "print(line_A)\n",
    "print(line_B)\n",
    "print(line_C)\n",
    "print(line_D)\n",
    "print(line_E)"
   ]
  },
  {
   "cell_type": "markdown",
   "id": "72d87b5b",
   "metadata": {},
   "source": [
    "5. Write a function to calculate the miles per gallon. Get a miles driven and gallons used from a user and call your function to calculate the miles per gallon."
   ]
  },
  {
   "cell_type": "code",
   "execution_count": null,
   "id": "27be7372",
   "metadata": {},
   "outputs": [],
   "source": [
    "m= float(input(\"Please enter your miles: \"))\n",
    "g= float(input(\"Please enter your gallons: \"))\n",
    "miles_per_gallon = m/g\n",
    "print(\"*\"*15)\n",
    "print(f\"You drove: {miles_per_gallon:.2f} miles per gallon.\")\n"
   ]
  },
  {
   "cell_type": "markdown",
   "id": "1f3942b8",
   "metadata": {},
   "source": [
    "6. Enhance the <b>compute()</b> function created during Module 2. Enhance the function to compute a circle's area and circumference where:\n",
    "\n",
    " - circle's area = 3.14 X (radius X radius)   \n",
    " - circle's circumference = 3.14 X diameter"
   ]
  },
  {
   "cell_type": "code",
   "execution_count": null,
   "id": "df43daca",
   "metadata": {},
   "outputs": [],
   "source": [
    "r= float(input(\"Please enter the radius of the circle in inch: \"))\n",
    "d= 2*r \n",
    "circle_Area= 3.14*r**2\n",
    "circle_Circumference= 3.14*d\n",
    "print(f\"Circle's diameter is: {d} inch\")\n",
    "print(\"*\"*15)\n",
    "print(f\"Thec circle's area is {circle_Area:.2f} sq.inches, and its circumference is {circle_Circumference:.2f} inch.\")"
   ]
  },
  {
   "cell_type": "markdown",
   "id": "4c5d83bb",
   "metadata": {},
   "source": [
    "7. Write a function called multiply_two() that accepts two parameters. The function should print a message like '15 * 2 = 30'.  Randomly generate two numbers between 1 and 100, then call the function with the two random numbers."
   ]
  },
  {
   "cell_type": "code",
   "execution_count": null,
   "id": "fe5ca2dc",
   "metadata": {},
   "outputs": [],
   "source": [
    "def multiply_two(n1, n2):\n",
    "    return n1*n2\n",
    "n1 = int(input(\"Please enter the first number: \"))\n",
    "n2 = int(input(\"Please enter the second number: \"))\n",
    "\n",
    "multiply_two(n1, n2)\n",
    "print(\"*\"*20)\n",
    "print(f\"Multiplication of {n1} * {n2} = {n1*n2}.\")"
   ]
  },
  {
   "cell_type": "code",
   "execution_count": null,
   "id": "9f83774c",
   "metadata": {},
   "outputs": [],
   "source": [
    "import random as rand\n",
    "n1 = 1 \n",
    "n2 = 100 \n",
    "\n",
    "print(rand.randint(n1, n2))\n",
    "print(rand.randint(n1, n2))"
   ]
  },
  {
   "cell_type": "markdown",
   "id": "36865477",
   "metadata": {},
   "source": [
    "8. Create a function for a multiplication table.  Get a number from a user and then call you function which produces a multiplication table for that number.\n",
    "The output should look something like this:\n",
    "\n",
    "        Enter a number: 3\n",
    "        3 X 1 = 3\n",
    "        3 X 2 = 6\n",
    "        3 X 3 = 9\n",
    "        3 X 4 = 12\n",
    "        3 X 5 = 15\n",
    "        3 X 6 = 18\n",
    "        3 X 7 = 21\n",
    "        3 X 8 = 24\n",
    "        3 X 9 = 27"
   ]
  },
  {
   "cell_type": "code",
   "execution_count": null,
   "id": "b023e863",
   "metadata": {},
   "outputs": [],
   "source": [
    "def multip_table(n):\n",
    "    print(f\"Multiplication Table for {n}\")\n",
    "    print(f\"{n} X 1 = {n * 1}\")\n",
    "    print(f\"{n} X 2 = {n * 2}\")\n",
    "    print(f\"{n} X 3 = {n * 3}\")\n",
    "    print(f\"{n} X 4 = {n * 4}\")\n",
    "    print(f\"{n} X 5 = {n * 5}\")\n",
    "    print(f\"{n} X 6 = {n * 6}\")\n",
    "    print(f\"{n} X 7 = {n * 7}\")\n",
    "    print(f\"{n} X 8 = {n * 8}\")\n",
    "    print(f\"{n} X 9 = {n * 9}\")"
   ]
  },
  {
   "cell_type": "code",
   "execution_count": null,
   "id": "563c8445",
   "metadata": {},
   "outputs": [],
   "source": [
    "num = int(input(\"Enter any number: \"))\n",
    "\n",
    "multip_table(num)"
   ]
  },
  {
   "cell_type": "code",
   "execution_count": null,
   "id": "b259ecf2",
   "metadata": {},
   "outputs": [],
   "source": []
  }
 ],
 "metadata": {
  "kernelspec": {
   "display_name": "Python 3",
   "language": "python",
   "name": "python3"
  },
  "language_info": {
   "codemirror_mode": {
    "name": "ipython",
    "version": 3
   },
   "file_extension": ".py",
   "mimetype": "text/x-python",
   "name": "python",
   "nbconvert_exporter": "python",
   "pygments_lexer": "ipython3",
   "version": "3.8.8"
  }
 },
 "nbformat": 4,
 "nbformat_minor": 5
}
