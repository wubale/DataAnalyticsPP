{
 "cells": [
  {
   "cell_type": "markdown",
   "id": "1e97d0dc",
   "metadata": {},
   "source": [
    "## Irvington Volunteer Project \n",
    "\n",
    "It's that time of year again! \n",
    "\n",
    "In your small town of Irvington, there is an annual festival that brings in visitors from all over the state! It's a huge deal and depends completely on the help of the local townspeople. \n",
    "\n",
    "The festival is 100% volunteer-run and operated, and it's your job to make sure all the volunteers have everything they need to get started. It is also your job to make sure volunteers are well organized, well prepared, and ready to rock when the day of the festival arrives! \n",
    "\n",
    "In the months before the festival, you collected a lot of information on each of the 1,000 volunteers. This information will help you better organize the volunteer effort. Follow the prompts below to complete your task of leading the volunteer effort!\n",
    "\n",
    "***\n",
    "\n",
    "#### For this task, use the Irvington Volunteers dataset. This dataset includes the following columns:\n",
    "\n",
    "    * First = First name of volunteer\n",
    "    * Last = Last name of volunteer\n",
    "    * Gender = Gender of volunteer\n",
    "    * Age = Age of volunteer         \n",
    "    * Shift = Shift of volunteer worker; 1 = first shift; 2 = second shift; 3 = third shift; 4 = forth shift\n",
    "    * Month = Month of year volunteer signed up for task\n",
    "    * Volunteer Task = Assigned task for volunteer \n",
    "    * Task Level = Level of involvement for volunteer task; 1 = beginner, 2 = moderate, 3 = expert\n",
    "    * Supervisor Number = Supervisor assigned to volunteer\n",
    "    * Fees Owed = Outstanding volunteer fee's that are owed to community\n",
    "    * Materials Needed = Does the volunteer still need task-specific materials; Y = yes; N = no\n",
    "    * Volunteer Hours = Number of hours volunteer has spent preparing for task\n",
    "    * Hours Pledged = Number of hours volunteer pledged to spend on task\n",
    "    * Task Training Completed = Did the volunteer complete task-specific training; Y = yes; N = no\n",
    "    * Recruited Volunteers = Number of other volunteers recruited by this volunteer"
   ]
  },
  {
   "cell_type": "markdown",
   "id": "77cd34e4",
   "metadata": {},
   "source": [
    "1. Import the \"Irvington Volunteers\" dataset. Check to make sure the dataset looks like what you're expecting"
   ]
  },
  {
   "cell_type": "code",
   "execution_count": null,
   "id": "35107a07",
   "metadata": {},
   "outputs": [],
   "source": [
    "import pandas as pd\n",
    "import numpy as np\n",
    "\n",
    "dt = pd.read_excel(\"Irvington_Volunteers.xlsx\")\n",
    "dt.head()"
   ]
  },
  {
   "cell_type": "markdown",
   "id": "3da6953e",
   "metadata": {},
   "source": [
    "2. Confirm all your volunteers are accounted for and all of the information you need is within the dataset. What characteristics can you identify in the dataset?\n",
    "***\n",
    "\n",
    "* How many rows are in the dataset?\n",
    "* How many columns are in the dataset?\n",
    "* What types of data are within each column?"
   ]
  },
  {
   "cell_type": "code",
   "execution_count": null,
   "id": "62990550",
   "metadata": {},
   "outputs": [],
   "source": [
    "dt.info()\n",
    "#999 rows, 15 columns, datatypes:object & integer"
   ]
  },
  {
   "cell_type": "markdown",
   "id": "5bbcbad0",
   "metadata": {},
   "source": [
    "3. Before taking this list seriously, we need to check to make sure all the volunteers are eligible to work their specific task. The only eligibility requirement is age-based -- no volunteers can be under the age of 13 and no volunteers can be over the age of 75. Are there any volunteers that fall outside of this range?"
   ]
  },
  {
   "cell_type": "code",
   "execution_count": null,
   "id": "32d1c573",
   "metadata": {},
   "outputs": [],
   "source": [
    "dt.loc[(dt[\"Age\"] <= 13) | (dt[\"Age\"] >= 75)]\n",
    "#No volunteers outside of this range"
   ]
  },
  {
   "cell_type": "markdown",
   "id": "37bc266c",
   "metadata": {},
   "source": [
    "4. Did you miss anyone? Did you make sure to record ALL the information for ALL the volunteers? Quickly check if your missing any data in this dataset. "
   ]
  },
  {
   "cell_type": "code",
   "execution_count": null,
   "id": "c5508e49",
   "metadata": {},
   "outputs": [],
   "source": [
    "dt.isnull().sum()\n",
    "#No missing volunteer"
   ]
  },
  {
   "cell_type": "markdown",
   "id": "1f9de06b",
   "metadata": {},
   "source": [
    "5. A lot of the information we have organizes the volunteers into specific groups. It's important that none of these groups are mismatched (too many people in one group vs another). Let's check how many volunteers fall into each of the following groups. (Hint: you need to use the value counts function for this question). \n",
    "***\n",
    "\n",
    "* Last (how many volunteers are from the same family?)\n",
    "* Gender\n",
    "* Shift\n",
    "* Month\n",
    "* Volunteer Task\n",
    "* Task Level\n",
    "* Supervisor Number\n",
    "* Materials Needed\n",
    "* Task Training Completed"
   ]
  },
  {
   "cell_type": "code",
   "execution_count": null,
   "id": "38e2a775",
   "metadata": {},
   "outputs": [],
   "source": [
    "dt[\"Last\"].value_counts()\n",
    "#Johnson=49; Carter=39....."
   ]
  },
  {
   "cell_type": "markdown",
   "id": "63759176",
   "metadata": {},
   "source": [
    "6. Let's look at these same groups, but from another angle. It's important that the community members are mixing and mingling with members of all ages. What is the average age of volunteers within all the groups listed below? (Hint: you need to use the groupby function for this question). Once you determine the average age of volunteers in the groups below, determine the average number of volunteer hours for all the groups below. \n",
    "***\n",
    "\n",
    "* Gender\n",
    "* Shift\n",
    "* Month\n",
    "* Volunteer Task\n",
    "* Task Level\n",
    "* Supervisor Number\n",
    "* Materials Needed\n",
    "* Task Training Completed"
   ]
  },
  {
   "cell_type": "code",
   "execution_count": null,
   "id": "c891c171",
   "metadata": {},
   "outputs": [],
   "source": [
    "dt[\"Task Level\"].groupby(dt[\"Gender\"]).mean()"
   ]
  },
  {
   "cell_type": "markdown",
   "id": "54b3c95f",
   "metadata": {},
   "source": [
    "7. There are specific groups of volunteers that need to be followed-up with immediately! These are the volunteers that have some outstanding business to handle before the big festival. Locate the group of volunteers that fall within each of these conditions.\n",
    "***\n",
    "* Locate the volunteers who still need materials for their volunteer task\n",
    "* Locate the volunteers who have not yet completed their volunteer training\n",
    "* Locate the volunteers who are experts are their task (aka Task Level = 3)\n",
    "* Locate the volunteers who are working fire safety and haven't yet completed their training - these folks need to get trained ASAP!"
   ]
  },
  {
   "cell_type": "code",
   "execution_count": null,
   "id": "04ec7fe5",
   "metadata": {},
   "outputs": [],
   "source": [
    "dt.loc[dt[\"Materials Needed\"] == \"Y\"]"
   ]
  },
  {
   "cell_type": "code",
   "execution_count": null,
   "id": "0d55d599",
   "metadata": {},
   "outputs": [],
   "source": [
    "dt.loc[dt[\"Task Training Completed\"] == \"N\"]"
   ]
  },
  {
   "cell_type": "code",
   "execution_count": null,
   "id": "96429718",
   "metadata": {},
   "outputs": [],
   "source": [
    "dt.loc[dt[\"Task Level\"] == 3]"
   ]
  },
  {
   "cell_type": "code",
   "execution_count": null,
   "id": "2489b3f9",
   "metadata": {},
   "outputs": [],
   "source": [
    "dt.loc[(dt[\"Volunteer Task\"] == \"Fire Safety\") | (dt[\"Task Training Completed\"] == \"N\")]"
   ]
  },
  {
   "cell_type": "markdown",
   "id": "cbdf2b09",
   "metadata": {},
   "source": [
    "8. To keep track of volunteers who meet specific conditions, make some additional columns to hold the new information. \n",
    "***\n",
    "\n",
    "* Inexperienced volunteers may get confused or lost. Create a new column called \"needsMentor\". This column should be assigned a value of \"1\" if a volunteer has not completed training and is at skill level 1. \n",
    "* How many volunteers haven't completed the volunteer hours they promised they would? Create a new column that subtracts the number of hours pledged (\"Hours Pledged\") from the number of volunteer hours already worked (\"Volunteer Hours). Call this column \"hoursNeeded\". \n",
    "* There are some overly committed volunteers - they have already worked all their pledged volunteer hours and are still going! These folks need to get a specific bonus when the festival is over - we need to track them somehow. Create a new column called \"overtimeBonus\" - if \"hoursNeeded\" is less than 0, this column should be \"1\". "
   ]
  },
  {
   "cell_type": "code",
   "execution_count": null,
   "id": "a2a41b4f",
   "metadata": {},
   "outputs": [],
   "source": []
  },
  {
   "cell_type": "markdown",
   "id": "2dd59a3c",
   "metadata": {},
   "source": [
    "9. The Mayor wants to make a speech about the different types of community members that are volunteering for the festival. Specifically, the Mayor would like to present some information on the different age groups. Create a new column called \"Age Group\" and bin the \"Age\" column to create bins based on the age of the volunteer. Follow the guidance below for the variations in age. (Hint: you can use any code you like to complete this task - np.select is also an option!)\n",
    "***\n",
    "\n",
    "* Teen (0 - 17)\n",
    "* Young Adult (17.1 - 35)\n",
    "* Adult (35.1 - 65)\n",
    "* Senior (65+)"
   ]
  },
  {
   "cell_type": "code",
   "execution_count": null,
   "id": "98bb2cc9",
   "metadata": {},
   "outputs": [],
   "source": []
  },
  {
   "cell_type": "markdown",
   "id": "6deb955b",
   "metadata": {},
   "source": [
    "10. The Supervisor Number column is all messed up. Someone didn't record is correctly, and now it is meaningless! Drop it from this dataset - it's not providing any meaningful information. "
   ]
  },
  {
   "cell_type": "code",
   "execution_count": null,
   "id": "5bcb035a",
   "metadata": {},
   "outputs": [],
   "source": []
  },
  {
   "cell_type": "markdown",
   "id": "2645b380",
   "metadata": {},
   "source": [
    "11. There is a new policy about volunteer fees. It seems that some of the fees owed were actually for materials that the volunteer paid for out of pocket. Wipe out the debt for those volunteers who owe just a few dollars. If the volunteer owes less than 5 dollars, replace that value with 0!"
   ]
  },
  {
   "cell_type": "code",
   "execution_count": null,
   "id": "499a96ce",
   "metadata": {},
   "outputs": [],
   "source": []
  },
  {
   "cell_type": "markdown",
   "id": "f6fc7097",
   "metadata": {},
   "source": [
    "12. We need some code that we can keep around for next year -- when we have the same task but new data! Define a few functions that can complete tasks that we will need to repeat down the road. \n",
    "\n",
    "***\n",
    "\n",
    "* Define a function to recode the column \"Gender\". Instead of \"M\" and \"F\" -- have the words spelled out \"Male\" and \"Female\". Apply this function to the \"Gender\" column. \n",
    "* Define a function to recode the column \"Month\". Convert the numeric \"Month\" to the name of the Month. Apply this function to the column \"Month\" and create a new column called \"Name of Month\". "
   ]
  },
  {
   "cell_type": "code",
   "execution_count": null,
   "id": "172482c6",
   "metadata": {},
   "outputs": [],
   "source": []
  }
 ],
 "metadata": {
  "kernelspec": {
   "display_name": "Python 3",
   "language": "python",
   "name": "python3"
  },
  "language_info": {
   "codemirror_mode": {
    "name": "ipython",
    "version": 3
   },
   "file_extension": ".py",
   "mimetype": "text/x-python",
   "name": "python",
   "nbconvert_exporter": "python",
   "pygments_lexer": "ipython3",
   "version": "3.8.8"
  }
 },
 "nbformat": 4,
 "nbformat_minor": 5
}
