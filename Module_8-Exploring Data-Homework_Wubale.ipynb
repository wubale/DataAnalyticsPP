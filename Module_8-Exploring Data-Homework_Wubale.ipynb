{
 "cells": [
  {
   "cell_type": "markdown",
   "id": "6d4d3646",
   "metadata": {},
   "source": [
    "# Module 8: Exploring Data \n",
    "\n",
    "After importing data, you should take the time to review the data you are working with. This includes: determining the properties of the dataset, the number of rows and columns, the names of all the columns, and what information your dataset contains. "
   ]
  },
  {
   "cell_type": "code",
   "execution_count": null,
   "id": "b35420a7",
   "metadata": {},
   "outputs": [],
   "source": [
    "## always start with importing the libraries you need! ## \n",
    "\n",
    "import pandas as pd\n",
    "\n",
    "## new library ##\n",
    "\n",
    "import numpy as np"
   ]
  },
  {
   "cell_type": "markdown",
   "id": "1034c125",
   "metadata": {},
   "source": [
    "## Importing Excel Data"
   ]
  },
  {
   "cell_type": "code",
   "execution_count": null,
   "id": "146ffccd",
   "metadata": {},
   "outputs": [],
   "source": [
    "## similar process with slightly different code\n",
    "\n",
    "df = pd.read_excel(\"axisdata.xlsx\")\n",
    "\n",
    "df.head()"
   ]
  },
  {
   "cell_type": "code",
   "execution_count": null,
   "id": "818d3fae",
   "metadata": {},
   "outputs": [],
   "source": [
    "df.to_excel(\"New AxisData.xlsx\")"
   ]
  },
  {
   "cell_type": "markdown",
   "id": "3128cd98",
   "metadata": {},
   "source": [
    "## Types of Variables (Columns)\n",
    "    \n",
    "Categorical variables are comprised of category or label values; these variables place individuals into one of several groups. Examples:\n",
    "\n",
    "- Marital Status (married, single, divorced)\n",
    "- Eye Color (brown, blue, green)\n",
    "- Level of Education (elementary, high school, college)\n",
    "    \n",
    "Quantitative variables are comprised of numerical values and represent some kind of measurement. Examples:\n",
    "\n",
    "- Height\n",
    "- Age\n",
    "- Income"
   ]
  },
  {
   "cell_type": "code",
   "execution_count": null,
   "id": "5c3008cd",
   "metadata": {},
   "outputs": [],
   "source": [
    "df.head(2)\n",
    "\n",
    "## which variables are categorical and which are numeric?"
   ]
  },
  {
   "cell_type": "markdown",
   "id": "30ea350f",
   "metadata": {},
   "source": [
    "## Dataset Characteristics"
   ]
  },
  {
   "cell_type": "code",
   "execution_count": null,
   "id": "9c9aa7d1",
   "metadata": {},
   "outputs": [],
   "source": [
    "## return a list of all dataset column names \n",
    "\n",
    "df.columns"
   ]
  },
  {
   "cell_type": "code",
   "execution_count": null,
   "id": "55d5ca91",
   "metadata": {},
   "outputs": [],
   "source": [
    "## return a list of all column names and the data type of each column\n",
    "\n",
    "df.dtypes"
   ]
  },
  {
   "cell_type": "code",
   "execution_count": null,
   "id": "44621e4a",
   "metadata": {},
   "outputs": [],
   "source": [
    "## return the number of columns and rows in the dataset\n",
    "\n",
    "df.shape"
   ]
  },
  {
   "cell_type": "code",
   "execution_count": null,
   "id": "49f890cb",
   "metadata": {},
   "outputs": [],
   "source": [
    "## preview the first 5 rows\n",
    "\n",
    "df.head()"
   ]
  },
  {
   "cell_type": "code",
   "execution_count": null,
   "id": "f8ab51b8",
   "metadata": {},
   "outputs": [],
   "source": [
    "## preview the last 5 rows\n",
    "\n",
    "df.tail()"
   ]
  },
  {
   "cell_type": "code",
   "execution_count": null,
   "id": "571c9506",
   "metadata": {},
   "outputs": [],
   "source": [
    "## return a summary of the dataset\n",
    "\n",
    "df.info()"
   ]
  },
  {
   "cell_type": "code",
   "execution_count": null,
   "id": "8d9d3598",
   "metadata": {},
   "outputs": [],
   "source": [
    "## return a summary of the numeric variables in dataset\n",
    "\n",
    "df.describe()"
   ]
  },
  {
   "cell_type": "markdown",
   "id": "16a33e0b",
   "metadata": {},
   "source": [
    "## { EXERCISE 1 }\n",
    "\n",
    "1. Import the pokemon.csv file. Nickname the file \"pk\" and preview the first 5 rows.\n",
    "2. Write the code to see the summary of the dataset.\n",
    "3. Write the code to see the descriptive summary for the numeric variables in the dataset. "
   ]
  },
  {
   "cell_type": "code",
   "execution_count": null,
   "id": "d96119a5",
   "metadata": {},
   "outputs": [],
   "source": []
  },
  {
   "cell_type": "code",
   "execution_count": null,
   "id": "fef2626c",
   "metadata": {},
   "outputs": [],
   "source": []
  },
  {
   "cell_type": "code",
   "execution_count": null,
   "id": "0207cc95",
   "metadata": {},
   "outputs": [],
   "source": []
  },
  {
   "cell_type": "markdown",
   "id": "f56feff0",
   "metadata": {},
   "source": [
    "## Simple Descriptive Statistics\n",
    "\n",
    "Descriptive statistics are used to describe a dataset. We will cover descriptive statistics in more detail later on, but there are a few simple statistics you can familiarize yourself with now. "
   ]
  },
  {
   "cell_type": "code",
   "execution_count": null,
   "id": "6d249c91",
   "metadata": {},
   "outputs": [],
   "source": [
    "# shows the maximum value of all columns\n",
    "\n",
    "df.max()"
   ]
  },
  {
   "cell_type": "code",
   "execution_count": null,
   "id": "4d523fee",
   "metadata": {},
   "outputs": [],
   "source": [
    "# shows the maximum value of the Hours Worked column\n",
    "\n",
    "df[\"Hours Worked\"].max()"
   ]
  },
  {
   "cell_type": "code",
   "execution_count": null,
   "id": "e87745ee",
   "metadata": {},
   "outputs": [],
   "source": [
    "# shows the maximum value of all columns\n",
    "\n",
    "df.min()"
   ]
  },
  {
   "cell_type": "code",
   "execution_count": null,
   "id": "6a7722ab",
   "metadata": {},
   "outputs": [],
   "source": [
    "# shows the minimum value of the Hours Worked column\n",
    "\n",
    "df[\"Hours Worked\"].min()"
   ]
  },
  {
   "cell_type": "code",
   "execution_count": null,
   "id": "5ed809a3",
   "metadata": {},
   "outputs": [],
   "source": [
    "# shows the sum of all values in the Hours Worked column\n",
    "\n",
    "df[\"Hours Worked\"].sum()"
   ]
  },
  {
   "cell_type": "code",
   "execution_count": null,
   "id": "435486db",
   "metadata": {
    "scrolled": true
   },
   "outputs": [],
   "source": [
    "# shows the average value of all columns\n",
    "\n",
    "df.mean()"
   ]
  },
  {
   "cell_type": "code",
   "execution_count": null,
   "id": "646bb44f",
   "metadata": {},
   "outputs": [],
   "source": [
    "# shows the average value of the Hours Worked column\n",
    "\n",
    "df[\"Hours Worked\"].mean()"
   ]
  },
  {
   "cell_type": "code",
   "execution_count": null,
   "id": "812e0742",
   "metadata": {},
   "outputs": [],
   "source": [
    "# shows the median value of all numeric columns\n",
    "# the median is the central value when all values are in order of least to greatest\n",
    "\n",
    "df.median()"
   ]
  },
  {
   "cell_type": "code",
   "execution_count": null,
   "id": "a0646e1b",
   "metadata": {},
   "outputs": [],
   "source": [
    "# shows the median value of the Hours Worked column\n",
    "\n",
    "df[\"Hours Worked\"].median()"
   ]
  },
  {
   "cell_type": "code",
   "execution_count": null,
   "id": "3e544293",
   "metadata": {},
   "outputs": [],
   "source": [
    "# shows the mode of all numeric columns\n",
    "# # the mode is the value or values that occur the most frequency, \n",
    "# there can be no mode if all values occur the same number of times\n",
    "\n",
    "df.mode()"
   ]
  },
  {
   "cell_type": "code",
   "execution_count": null,
   "id": "a86c1084",
   "metadata": {},
   "outputs": [],
   "source": [
    "# shows the mode value of the Hours Worked column\n",
    "\n",
    "df[\"Hours Worked\"].mode()"
   ]
  },
  {
   "cell_type": "markdown",
   "id": "769982b4",
   "metadata": {},
   "source": [
    "## Value Frequencies\n",
    "\n",
    "Value counts/freq show how many individuals fall into a specific category. This is how we will explore our categorical variables. "
   ]
  },
  {
   "cell_type": "code",
   "execution_count": null,
   "id": "d0895f50",
   "metadata": {},
   "outputs": [],
   "source": [
    "df[\"Position\"].value_counts()"
   ]
  },
  {
   "cell_type": "code",
   "execution_count": null,
   "id": "1ff4ea76",
   "metadata": {},
   "outputs": [],
   "source": [
    "df[\"Gender\"].value_counts()"
   ]
  },
  {
   "cell_type": "code",
   "execution_count": null,
   "id": "c6262c61",
   "metadata": {},
   "outputs": [],
   "source": [
    "df[\"SalesTraining\"].value_counts()"
   ]
  },
  {
   "cell_type": "code",
   "execution_count": null,
   "id": "9d6fb500",
   "metadata": {},
   "outputs": [],
   "source": [
    "df[\"SalesTraining\"].value_counts(normalize = True)"
   ]
  },
  {
   "cell_type": "markdown",
   "id": "61da29cd",
   "metadata": {},
   "source": [
    "## { EXERCISE 2 }\n",
    "\n",
    "1. Using the \"pk\" dataset you previously imported, determine the following information for the DEFENSE column:\n",
    "    * Mean defense value\n",
    "    * Min defense value\n",
    "    * Max defense value\n",
    "    * Sum defense value\n",
    "    \n",
    "    \n",
    "2. Use the value counts function to determine how many pokemon fall into each of the following categories:\n",
    "    * Type 1\n",
    "    * Type 2\n",
    "    * Stage\n",
    "    * Legendary"
   ]
  },
  {
   "cell_type": "code",
   "execution_count": null,
   "id": "6168a8bf",
   "metadata": {},
   "outputs": [],
   "source": []
  },
  {
   "cell_type": "code",
   "execution_count": null,
   "id": "8f0b3657",
   "metadata": {},
   "outputs": [],
   "source": []
  },
  {
   "cell_type": "code",
   "execution_count": null,
   "id": "a38aed4f",
   "metadata": {},
   "outputs": [],
   "source": []
  },
  {
   "cell_type": "markdown",
   "id": "cb178afc",
   "metadata": {},
   "source": [
    "## Locating Data based on a Condition\n",
    "\n",
    "You can use the .loc method to locate specific data within your dataset based on a specific condition of the data. When exploring data based on a condition, keep in mind the conditional statements that we discussed previously:\n",
    "\n",
    "#### Conditional Symbols\n",
    "\n",
    "    == (equal to)\n",
    "    != (not equal to)\n",
    "    > (greater than)\n",
    "    < (less than)\n",
    "    >= (greater than or equal to)\n",
    "    <= (less than or equal to)\n",
    "    & (and)\n",
    "    | (or)"
   ]
  },
  {
   "cell_type": "code",
   "execution_count": null,
   "id": "632822fa",
   "metadata": {},
   "outputs": [],
   "source": [
    "## gender is Male\n",
    "\n",
    "df.loc[df[\"Gender\"] == \"M\"]"
   ]
  },
  {
   "cell_type": "code",
   "execution_count": null,
   "id": "76bc2cd5",
   "metadata": {},
   "outputs": [],
   "source": [
    "## hours worked is 40\n",
    "\n",
    "df.loc[df[\"Hours Worked\"] == 40]"
   ]
  },
  {
   "cell_type": "code",
   "execution_count": null,
   "id": "895e112b",
   "metadata": {},
   "outputs": [],
   "source": [
    "## years experience is less than 2\n",
    "\n",
    "df.loc[df[\"Years Experience\"] < 2]"
   ]
  },
  {
   "cell_type": "code",
   "execution_count": null,
   "id": "a216a0f0",
   "metadata": {},
   "outputs": [],
   "source": [
    "## cars sold is greater than or equal to 3\n",
    "\n",
    "df.loc[df[\"Cars Sold\"] >= 3]"
   ]
  },
  {
   "cell_type": "code",
   "execution_count": null,
   "id": "e9c3c9ad",
   "metadata": {},
   "outputs": [],
   "source": [
    "## gender does not equal Male\n",
    "\n",
    "df.loc[df[\"Gender\"] != \"M\"]"
   ]
  },
  {
   "cell_type": "markdown",
   "id": "223feff0",
   "metadata": {},
   "source": [
    "## Locating Data Based on Multiple Conditions\n",
    "\n",
    "You can also have the option of choosing multiple conditions to sift through your data. When using multiple conditions, pay attention to how the conditions relate to each other (i.e. do you want to see data where both conditions are true? do you want to see data where at least one condition is true?) - this is where you will need to implement the <b>and (&)</b> and <b>or (|)</b> options. "
   ]
  },
  {
   "cell_type": "code",
   "execution_count": null,
   "id": "5fe0a8df",
   "metadata": {},
   "outputs": [],
   "source": [
    "## locate data where the individuals have no sales experience and sold over 4 cars\n",
    "\n",
    "df.loc[(df[\"SalesTraining\"] == \"N\") & (df[\"Cars Sold\"] > 4)]"
   ]
  },
  {
   "cell_type": "code",
   "execution_count": null,
   "id": "272140e9",
   "metadata": {},
   "outputs": [],
   "source": [
    "## locate the data where years of experience is 1 or hours worked is less than 25\n",
    "\n",
    "df.loc[(df[\"Years Experience\"] == 1) | (df[\"Hours Worked\"] < 25)]"
   ]
  },
  {
   "cell_type": "code",
   "execution_count": null,
   "id": "8966af30",
   "metadata": {
    "scrolled": true
   },
   "outputs": [],
   "source": [
    "## adding in a third condition\n",
    "\n",
    "df.loc[(df[\"SalesTraining\"] == \"N\") & (df[\"Cars Sold\"] > 4) & (df[\"Gender\"] == \"F\")]"
   ]
  },
  {
   "cell_type": "markdown",
   "id": "5ad05196",
   "metadata": {},
   "source": [
    "## { EXERCISE 3 }\n",
    "\n",
    "1. Using the \"pk\" dataset, locate the data where STAGE is 1.\n",
    "2. Using the \"pk\" dataset, locate the data where TYPE 1 is Fire.\n",
    "3. Using the \"pk\" dataset, locate the data where SPEED is greater than 65.\n",
    "4. Using the \"pk\" dataset, locate the data that meets the following conditions:\n",
    "    * ATTACK is less than 60\n",
    "    * STAGE is equal to 2\n",
    "5. Using the \"pk\" dataset, locate the data that meets the following conditions:\n",
    "    * TYPE 1 is equal to \"Bug\"\n",
    "    * SPEED is greater than or equal to 50"
   ]
  },
  {
   "cell_type": "code",
   "execution_count": null,
   "id": "1a09cf4a",
   "metadata": {},
   "outputs": [],
   "source": []
  },
  {
   "cell_type": "code",
   "execution_count": null,
   "id": "fdb8e327",
   "metadata": {},
   "outputs": [],
   "source": []
  },
  {
   "cell_type": "code",
   "execution_count": null,
   "id": "5eacea82",
   "metadata": {},
   "outputs": [],
   "source": []
  },
  {
   "cell_type": "markdown",
   "id": "8e12bbd6",
   "metadata": {},
   "source": [
    "## Crosstabs\n",
    "    \n",
    "To describe a single categorical variable, we use frequency tables (see above for value counts). To observe the relationship between two categorical variables, we use a cross-tabulation table (crosstab). With a crosstab, you can determine the frequency of observations across categories."
   ]
  },
  {
   "cell_type": "code",
   "execution_count": null,
   "id": "0eec9c83",
   "metadata": {},
   "outputs": [],
   "source": [
    "pd.crosstab(df[\"Position\"], df[\"Gender\"])"
   ]
  },
  {
   "cell_type": "code",
   "execution_count": null,
   "id": "2ee3b0a7",
   "metadata": {},
   "outputs": [],
   "source": [
    "pd.crosstab(df[\"Position\"], df[\"Gender\"], margins=True)"
   ]
  },
  {
   "cell_type": "markdown",
   "id": "1e07ae46",
   "metadata": {},
   "source": [
    "## Grouping Data\n",
    "\n",
    "Grouping data allows you to summarize data in different ways, this may give you insight on how some variables interact with others. Using the groupby function, you will select a numeric variable to be summarized and then a categorical variable to group the numeric variable.    \n",
    "    \n",
    "    df[numeric variable].groupby(categorical variable).summarizing element"
   ]
  },
  {
   "cell_type": "code",
   "execution_count": null,
   "id": "3512d024",
   "metadata": {},
   "outputs": [],
   "source": [
    "## Group by Sales Training; Summarize for Cars Sold\n",
    "\n",
    "df[\"Cars Sold\"].groupby(df[\"SalesTraining\"]).mean()"
   ]
  },
  {
   "cell_type": "code",
   "execution_count": null,
   "id": "307378f1",
   "metadata": {},
   "outputs": [],
   "source": [
    "## Group by Gender; Summarize for Cars Sold\n",
    "\n",
    "df[\"Cars Sold\"].groupby(df[\"Gender\"]).mean()"
   ]
  },
  {
   "cell_type": "code",
   "execution_count": null,
   "id": "812a397a",
   "metadata": {},
   "outputs": [],
   "source": [
    "## Group by Position; Summarize for Hours Worked\n",
    "\n",
    "df[\"Hours Worked\"].groupby(df[\"Position\"]).mean()"
   ]
  },
  {
   "cell_type": "code",
   "execution_count": null,
   "id": "4c25fb9e",
   "metadata": {},
   "outputs": [],
   "source": [
    "## Grouping the entire dataset by a specific variable\n",
    "\n",
    "df.groupby(df['SalesTraining']).mean()"
   ]
  },
  {
   "cell_type": "markdown",
   "id": "1703ef3b",
   "metadata": {},
   "source": [
    "## { EXERCISE 4 }\n",
    "\n",
    "1. Using the \"pk\" dataset, group your ATTACK variable by STAGE. Summarize this data by showing the mean attack across each stage.\n",
    "2. Using the \"pk\" dataset, group your SPEED variable by TYPE 1. Summarize this data by showing the mean speed across each pokemon type. \n",
    "3. Using the \"pk\" dataset, group your DEFENSE variable by STAGE. Summarize this data by showing the mean defense across each stage. "
   ]
  },
  {
   "cell_type": "code",
   "execution_count": null,
   "id": "e6866e49",
   "metadata": {},
   "outputs": [],
   "source": []
  },
  {
   "cell_type": "code",
   "execution_count": null,
   "id": "f7aba6dc",
   "metadata": {},
   "outputs": [],
   "source": []
  },
  {
   "cell_type": "code",
   "execution_count": null,
   "id": "8cafd441",
   "metadata": {},
   "outputs": [],
   "source": []
  },
  {
   "cell_type": "markdown",
   "id": "4f5502f2",
   "metadata": {},
   "source": [
    "# { Module 8 Homework }"
   ]
  },
  {
   "cell_type": "markdown",
   "id": "082e993f",
   "metadata": {},
   "source": [
    "1. Import the \"Dental Patients.xlsx\" file and nickname the dataset \"df\". Preview the first 10 rows. You need to complete this step to have access to the correct dataset!"
   ]
  },
  {
   "cell_type": "code",
   "execution_count": null,
   "id": "4bbd43e8",
   "metadata": {},
   "outputs": [],
   "source": [
    "import pandas as pd\n",
    "import numpy as np\n",
    "df = pd.read_excel(\"Dental Patients.xlsx\")"
   ]
  },
  {
   "cell_type": "markdown",
   "id": "abd99060",
   "metadata": {},
   "source": [
    "2. Write the code to preview the last 5 rows of the df dataset."
   ]
  },
  {
   "cell_type": "code",
   "execution_count": null,
   "id": "d665a95d",
   "metadata": {},
   "outputs": [],
   "source": [
    "df.tail(5)"
   ]
  },
  {
   "cell_type": "markdown",
   "id": "f796f04e",
   "metadata": {},
   "source": [
    "3. Write the code to print the summary information for the df dataset. How many rows are there? How many columns?"
   ]
  },
  {
   "cell_type": "code",
   "execution_count": null,
   "id": "0480a72c",
   "metadata": {},
   "outputs": [],
   "source": [
    "df.describe()\n",
    "df.info()\n",
    "#There are 50 rows and 9 columns"
   ]
  },
  {
   "cell_type": "markdown",
   "id": "d2c947e8",
   "metadata": {},
   "source": [
    "4. Looking closer at the df dataset, what is the maximum age for this group of patients? What is the minimum age?"
   ]
  },
  {
   "cell_type": "code",
   "execution_count": null,
   "id": "2792d193",
   "metadata": {},
   "outputs": [],
   "source": [
    "df.max()\n",
    "#it is 78"
   ]
  },
  {
   "cell_type": "markdown",
   "id": "683da394",
   "metadata": {},
   "source": [
    "5. How much money is owned in total to the dental practice? Hint: find the sum of the \"OutstandingBalance\" column."
   ]
  },
  {
   "cell_type": "code",
   "execution_count": null,
   "id": "46c2cbc6",
   "metadata": {},
   "outputs": [],
   "source": [
    "df[\"OutstandingBalance\"].sum()\n",
    "#it is 4,600"
   ]
  },
  {
   "cell_type": "markdown",
   "id": "dcd2e277",
   "metadata": {},
   "source": [
    "6. Write the code below to determine how many new patients there are."
   ]
  },
  {
   "cell_type": "code",
   "execution_count": null,
   "id": "11bcab9c",
   "metadata": {},
   "outputs": [],
   "source": [
    "df[\"NewPatient\"].sum()"
   ]
  },
  {
   "cell_type": "markdown",
   "id": "fd545149",
   "metadata": {},
   "source": [
    "7. Write the code below to determine how many patients have any allergies."
   ]
  },
  {
   "cell_type": "code",
   "execution_count": null,
   "id": "431d4606",
   "metadata": {},
   "outputs": [],
   "source": [
    "df[\"Allergies\"].sum()"
   ]
  },
  {
   "cell_type": "markdown",
   "id": "5034df03",
   "metadata": {},
   "source": [
    "8. Let's select some data based on conditions. Find the data in the df dataset where \"Gender\" equals \"F\"."
   ]
  },
  {
   "cell_type": "code",
   "execution_count": null,
   "id": "9615996b",
   "metadata": {},
   "outputs": [],
   "source": [
    "df.loc[df[\"Gender\"] ==\"F\"]"
   ]
  },
  {
   "cell_type": "markdown",
   "id": "3201b714",
   "metadata": {},
   "source": [
    "9. Find the data in the df dataset where \"OutstandingBalance\" equals 0. These are the people who have paid all of their bills!"
   ]
  },
  {
   "cell_type": "code",
   "execution_count": null,
   "id": "6110c80c",
   "metadata": {},
   "outputs": [],
   "source": [
    "df.loc[df[\"OutstandingBalance\"] == 0]"
   ]
  },
  {
   "cell_type": "markdown",
   "id": "0e037f20",
   "metadata": {},
   "source": [
    "10. Complete the code below to find the data in the df dataset where \"NewPatient\" equals \"Y\" and \"Allergies\" also equals \"Y\"."
   ]
  },
  {
   "cell_type": "code",
   "execution_count": null,
   "id": "cd8e9822",
   "metadata": {},
   "outputs": [],
   "source": [
    "df.loc[(df[\"NewPatient\"] == \"Y\") & (df[\"Allergies\"] == \"Y\")]"
   ]
  },
  {
   "cell_type": "markdown",
   "id": "9b360467",
   "metadata": {},
   "source": [
    "11. Using the groupby function, group the df dataset by the \"Insurance\" variable and summarize for the \"OutstandingBalance\" variable. Use the mean."
   ]
  },
  {
   "cell_type": "code",
   "execution_count": null,
   "id": "8c0480b4",
   "metadata": {},
   "outputs": [],
   "source": [
    "df[\"OutstandingBalance\"].groupby(df[\"Insurance\"]).mean()"
   ]
  },
  {
   "cell_type": "markdown",
   "id": "02654aaa",
   "metadata": {},
   "source": [
    "12. Using the groupby function, group the df dataset by the \"Gender\" variable and summarize for the \"Age\" variable. Use the mean."
   ]
  },
  {
   "cell_type": "code",
   "execution_count": null,
   "id": "75fb386d",
   "metadata": {},
   "outputs": [],
   "source": [
    "df[\"Age\"].groupby(df[\"Gender\"]).mean()"
   ]
  }
 ],
 "metadata": {
  "kernelspec": {
   "display_name": "Python 3",
   "language": "python",
   "name": "python3"
  },
  "language_info": {
   "codemirror_mode": {
    "name": "ipython",
    "version": 3
   },
   "file_extension": ".py",
   "mimetype": "text/x-python",
   "name": "python",
   "nbconvert_exporter": "python",
   "pygments_lexer": "ipython3",
   "version": "3.8.8"
  }
 },
 "nbformat": 4,
 "nbformat_minor": 5
}
